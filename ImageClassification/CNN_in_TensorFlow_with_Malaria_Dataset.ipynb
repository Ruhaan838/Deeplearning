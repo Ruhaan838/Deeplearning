{
  "cells": [
    {
      "cell_type": "markdown",
      "metadata": {
        "id": "5HNLVYzkwyoU"
      },
      "source": [
        "#Import The Modules"
      ]
    },
    {
      "cell_type": "code",
      "execution_count": null,
      "metadata": {
        "id": "I0igCJjPF_VV"
      },
      "outputs": [],
      "source": [
        "import tensorflow as tf\n",
        "import matplotlib.pyplot as plt\n",
        "import tensorflow_datasets as tfds\n",
        "import tensorflow_probability as tfp\n",
        "from tensorflow.keras.layers import Conv2D, MaxPool2D, Dense, Flatten, InputLayer,BatchNormalization,Input,Layer,Dropout,Resizing,Rescaling,RandomRotation,RandomFlip\n",
        "from tensorflow.keras.models import Model\n",
        "from tensorflow.keras import Sequential\n",
        "from tensorflow.keras.optimizers import Adam\n",
        "from tensorflow.keras.losses import BinaryCrossentropy\n",
        "from tensorflow.keras.metrics import BinaryAccuracy , FalsePositives,FalseNegatives,TruePositives,TrueNegatives,Precision,Recall,AUC\n",
        "from tensorflow.keras.callbacks import Callback,CSVLogger,EarlyStopping,ModelCheckpoint,ReduceLROnPlateau,TensorBoard\n",
        "from tensorflow.keras.regularizers import L1,L2\n",
        "from tensorflow.image import flip_left_right,random_flip_up_down,rot90,adjust_brightness,random_saturation,central_crop,adjust_saturation,crop_to_bounding_box,pad_to_bounding_box\n",
        "import sklearn as sl\n",
        "from sklearn.metrics import confusion_matrix,roc_curve\n",
        "import seaborn as sns\n",
        "import numpy as np\n",
        "import cv2\n",
        "# import wandb\n",
        "# from wandb.keras import WandbCallback\n",
        "from google.colab import drive"
      ]
    },
    {
      "cell_type": "markdown",
      "metadata": {
        "id": "RUV59roYMuy9"
      },
      "source": [
        "#WanDB"
      ]
    },
    {
      "cell_type": "markdown",
      "metadata": {
        "id": "qQ4EQCJAM1pz"
      },
      "source": [
        "##Login & install"
      ]
    },
    {
      "cell_type": "code",
      "execution_count": null,
      "metadata": {
        "id": "q9sU8PLQM5sd"
      },
      "outputs": [],
      "source": [
        "!pip install wandb"
      ]
    },
    {
      "cell_type": "code",
      "execution_count": null,
      "metadata": {
        "colab": {
          "base_uri": "https://localhost:8080/"
        },
        "id": "Z0U4aGLdM8ND",
        "outputId": "9899068c-0bcb-48cd-dd31-01d5627a0771"
      },
      "outputs": [
        {
          "name": "stdout",
          "output_type": "stream",
          "text": [
            "\u001b[34m\u001b[1mwandb\u001b[0m: Logging into wandb.ai. (Learn how to deploy a W&B server locally: https://wandb.me/wandb-server)\n",
            "\u001b[34m\u001b[1mwandb\u001b[0m: You can find your API key in your browser here: https://wandb.ai/authorize\n",
            "\u001b[34m\u001b[1mwandb\u001b[0m: Paste an API key from your profile and hit enter, or press ctrl+c to quit: \n",
            "\u001b[34m\u001b[1mwandb\u001b[0m: Appending key for api.wandb.ai to your netrc file: /root/.netrc\n"
          ]
        }
      ],
      "source": [
        "!wandb login"
      ]
    },
    {
      "cell_type": "markdown",
      "metadata": {
        "id": "GCIYmabUPCHc"
      },
      "source": [
        "##Initialization"
      ]
    },
    {
      "cell_type": "code",
      "execution_count": null,
      "metadata": {
        "colab": {
          "base_uri": "https://localhost:8080/",
          "height": 142
        },
        "id": "WRFaGXIhPAGF",
        "outputId": "1ba77ef7-6b15-4eb2-b244-848994a89cd1"
      },
      "outputs": [
        {
          "name": "stderr",
          "output_type": "stream",
          "text": [
            "\u001b[34m\u001b[1mwandb\u001b[0m: Currently logged in as: \u001b[33mruhaan18\u001b[0m. Use \u001b[1m`wandb login --relogin`\u001b[0m to force relogin\n"
          ]
        },
        {
          "data": {
            "text/html": [
              "Tracking run with wandb version 0.16.0"
            ],
            "text/plain": [
              "<IPython.core.display.HTML object>"
            ]
          },
          "metadata": {},
          "output_type": "display_data"
        },
        {
          "data": {
            "text/html": [
              "Run data is saved locally in <code>/content/wandb/run-20231127_052750-9pea2emm</code>"
            ],
            "text/plain": [
              "<IPython.core.display.HTML object>"
            ]
          },
          "metadata": {},
          "output_type": "display_data"
        },
        {
          "data": {
            "text/html": [
              "Syncing run <strong><a href='https://wandb.ai/ruhaan18/my-malaria-project-for-learn/runs/9pea2emm' target=\"_blank\">woven-dragon-1</a></strong> to <a href='https://wandb.ai/ruhaan18/my-malaria-project-for-learn' target=\"_blank\">Weights & Biases</a> (<a href='https://wandb.me/run' target=\"_blank\">docs</a>)<br/>"
            ],
            "text/plain": [
              "<IPython.core.display.HTML object>"
            ]
          },
          "metadata": {},
          "output_type": "display_data"
        },
        {
          "data": {
            "text/html": [
              " View project at <a href='https://wandb.ai/ruhaan18/my-malaria-project-for-learn' target=\"_blank\">https://wandb.ai/ruhaan18/my-malaria-project-for-learn</a>"
            ],
            "text/plain": [
              "<IPython.core.display.HTML object>"
            ]
          },
          "metadata": {},
          "output_type": "display_data"
        },
        {
          "data": {
            "text/html": [
              " View run at <a href='https://wandb.ai/ruhaan18/my-malaria-project-for-learn/runs/9pea2emm' target=\"_blank\">https://wandb.ai/ruhaan18/my-malaria-project-for-learn/runs/9pea2emm</a>"
            ],
            "text/plain": [
              "<IPython.core.display.HTML object>"
            ]
          },
          "metadata": {},
          "output_type": "display_data"
        },
        {
          "data": {
            "text/html": [
              "<button onClick=\"this.nextSibling.style.display='block';this.style.display='none';\">Display W&B run</button><iframe src='https://wandb.ai/ruhaan18/my-malaria-project-for-learn/runs/9pea2emm?jupyter=true' style='border:none;width:100%;height:420px;display:none;'></iframe>"
            ],
            "text/plain": [
              "<wandb.sdk.wandb_run.Run at 0x795cec03df60>"
            ]
          },
          "execution_count": 18,
          "metadata": {},
          "output_type": "execute_result"
        }
      ],
      "source": [
        "wandb.init(project=\"my-malaria-project-for-learn\",entity=\"ruhaan18\")"
      ]
    },
    {
      "cell_type": "code",
      "execution_count": null,
      "metadata": {
        "id": "7tMZCfhBP3CJ"
      },
      "outputs": [],
      "source": [
        "wandb.run"
      ]
    },
    {
      "cell_type": "markdown",
      "metadata": {
        "id": "a7paOKJiQIZ3"
      },
      "source": [
        "##Configuration"
      ]
    },
    {
      "cell_type": "code",
      "execution_count": null,
      "metadata": {
        "id": "vr8FKB7mQHZ2"
      },
      "outputs": [],
      "source": [
        "wandb.config = {\n",
        "    \"LEARNING_RATE\" : 0.001,\n",
        "    \"N_EPOCHS\":10,\n",
        "    \"BATCH_SIZE\":128,\n",
        "    \"DROPOUT_RATE\":0.0,\n",
        "    \"IM_SIZE\":224,\n",
        "    \"REGULARIZATION_RATE\":0.0,\n",
        "    \"N_FILTERS\":6,\n",
        "    \"KERNEL_SIZE\":3,\n",
        "    \"N_STRIDES\":1,\n",
        "    \"POOL_SIZE\":2,\n",
        "    \"N_DENSE_1\":128,\n",
        "    \"N_DENSE_2\":32,\n",
        "}"
      ]
    },
    {
      "cell_type": "markdown",
      "metadata": {
        "id": "auVmuVl-w4Sc"
      },
      "source": [
        "#Load The Datasets"
      ]
    },
    {
      "cell_type": "code",
      "execution_count": null,
      "metadata": {
        "colab": {
          "background_save": true,
          "base_uri": "https://localhost:8080/",
          "height": 130,
          "referenced_widgets": [
            "b0b065039af94c0ea80e99b14bd17d1e",
            "3bebeb80b2114d3e9f55466c6a3e2a16",
            "aa5b65367c4a42e489a2afccfbaaaa77",
            "64ddef28dd20449cabbc7bee7f18a716",
            "b251d7a907c14300a916d0758ecd45aa",
            "4f379ace21004383911ee23adef11dd1",
            "c243036942d24b6bbebb8e1912d780a3",
            "cb8c22593df8478c8ce1599fe188d1b3",
            "622d70fb15754d8dbad39608952ae8d4",
            "a7f7e7c657724d2d9d1236dfc4d3a2f7",
            "fe850e137d3d48679a1f339dd51d5f69",
            "4ba2604d7336439ea573628a9ce5f26e",
            "a3081c90587b458ba144ed985906fcef",
            "58b6cb2e391f4533945e827448c16f4d",
            "5a2284c4dd6f4a95b98ca3eb5a907dbe",
            "8ed5d43623b8410390c79d99649100dd",
            "5b2975357c614a62bb77c7d20eb2e971",
            "9b9a29e3160e4b6d8245649b906df7a5",
            "2b2f3ffe5c1749aabe89af4e0a9c922f",
            "3d91bb052f2d4cf4be1727dfa60047de",
            "00153120268d4d64affea9c7f8858356",
            "66a67cf797424548820c794b6de68bf1",
            "168ca931cbe744bb89ac15d0faa9fff1",
            "a5fc82903adc4457b2a83c9f44225072",
            "7ce13a9460c04871a4c5594644515f4c",
            "071f492369c94ce481f9db6bb0b7832a",
            "9237d14b59e640a49175cb9f7b5aa2be",
            "7f5f1ec111714945ad6a3c509f625479",
            "ec25aab7730a4e8aac6a453e506dd59f",
            "10456f23a21d4ba5bb58d289c0740274",
            "4bf1d13b3985477fb58f4aa25f802429",
            "c7ea9c8af54a48988a216aa162a0ddcd",
            "aeefea460c6d47adbad29731dd009220",
            "7e37d8d8ec874cbe902617488d63dabc",
            "45809db47678407894cb7a08c9538694",
            "8670df44fd284a9f9b45e21b97d7b58b"
          ]
        },
        "id": "rKviVgs_KEXp",
        "outputId": "5ff54a17-6127-4417-f024-a633a067475f"
      },
      "outputs": [
        {
          "name": "stdout",
          "output_type": "stream",
          "text": [
            "Downloading and preparing dataset 337.08 MiB (download: 337.08 MiB, generated: Unknown size, total: 337.08 MiB) to /root/tensorflow_datasets/malaria/1.0.0...\n"
          ]
        },
        {
          "data": {
            "application/vnd.jupyter.widget-view+json": {
              "model_id": "b0b065039af94c0ea80e99b14bd17d1e",
              "version_major": 2,
              "version_minor": 0
            },
            "text/plain": [
              "Dl Completed...: 0 url [00:00, ? url/s]"
            ]
          },
          "metadata": {},
          "output_type": "display_data"
        },
        {
          "data": {
            "application/vnd.jupyter.widget-view+json": {
              "model_id": "4ba2604d7336439ea573628a9ce5f26e",
              "version_major": 2,
              "version_minor": 0
            },
            "text/plain": [
              "Dl Size...: 0 MiB [00:00, ? MiB/s]"
            ]
          },
          "metadata": {},
          "output_type": "display_data"
        },
        {
          "data": {
            "application/vnd.jupyter.widget-view+json": {
              "model_id": "168ca931cbe744bb89ac15d0faa9fff1",
              "version_major": 2,
              "version_minor": 0
            },
            "text/plain": [
              "Extraction completed...: 0 file [00:00, ? file/s]"
            ]
          },
          "metadata": {},
          "output_type": "display_data"
        },
        {
          "data": {
            "application/vnd.jupyter.widget-view+json": {
              "model_id": "7e37d8d8ec874cbe902617488d63dabc",
              "version_major": 2,
              "version_minor": 0
            },
            "text/plain": [
              "Generating splits...:   0%|          | 0/1 [00:00<?, ? splits/s]"
            ]
          },
          "metadata": {},
          "output_type": "display_data"
        },
        {
          "data": {
            "application/vnd.jupyter.widget-view+json": {
              "model_id": "45809db47678407894cb7a08c9538694",
              "version_major": 2,
              "version_minor": 0
            },
            "text/plain": [
              "Generating train examples...:   0%|          | 0/27558 [00:00<?, ? examples/s]"
            ]
          },
          "metadata": {},
          "output_type": "display_data"
        },
        {
          "data": {
            "application/vnd.jupyter.widget-view+json": {
              "model_id": "8670df44fd284a9f9b45e21b97d7b58b",
              "version_major": 2,
              "version_minor": 0
            },
            "text/plain": [
              "Shuffling /root/tensorflow_datasets/malaria/1.0.0.incomplete2XMF2T/malaria-train.tfrecord*...:   0%|          …"
            ]
          },
          "metadata": {},
          "output_type": "display_data"
        },
        {
          "name": "stdout",
          "output_type": "stream",
          "text": [
            "Dataset malaria downloaded and prepared to /root/tensorflow_datasets/malaria/1.0.0. Subsequent calls will reuse this data.\n"
          ]
        }
      ],
      "source": [
        "dataset, dataset_info = tfds.load('malaria', with_info=True, as_supervised=True, shuffle_files=True, split=['train'])"
      ]
    },
    {
      "cell_type": "markdown",
      "metadata": {
        "id": "cLQ262bUw8cz"
      },
      "source": [
        "#Data Preprocessing"
      ]
    },
    {
      "cell_type": "markdown",
      "metadata": {
        "id": "wX8n78ANJf1G"
      },
      "source": [
        "##Data Spliting"
      ]
    },
    {
      "cell_type": "code",
      "execution_count": null,
      "metadata": {
        "id": "2Hqs4EZqTV0i"
      },
      "outputs": [],
      "source": [
        "def splits(dataset, train_ratio=0.8, val_ratio=0.1, test_ratio=0.1):\n",
        "    dataset_size = len(dataset)\n",
        "    train_dataset = dataset.take(int(train_ratio * dataset_size))\n",
        "    val_test_dataset = dataset.skip(int(train_ratio * dataset_size))\n",
        "    val_dataset = val_test_dataset.take(int(val_ratio * dataset_size))\n",
        "    test_dataset = val_test_dataset.skip(int(test_ratio * dataset_size))\n",
        "    return train_dataset, val_dataset, test_dataset"
      ]
    },
    {
      "cell_type": "code",
      "execution_count": null,
      "metadata": {
        "id": "0MURIeyOUnyY"
      },
      "outputs": [],
      "source": [
        "train_data, val_data, test_data = splits(dataset[0])"
      ]
    },
    {
      "cell_type": "markdown",
      "metadata": {
        "id": "3SIaxjZIxMRC"
      },
      "source": [
        "##Data Analyzing"
      ]
    },
    {
      "cell_type": "code",
      "execution_count": null,
      "metadata": {
        "colab": {
          "base_uri": "https://localhost:8080/",
          "height": 148
        },
        "id": "WEOTACmLYeb9",
        "outputId": "cc7eadff-124c-4b5b-e5c1-3a881de6419f"
      },
      "outputs": [
        {
          "data": {
            "image/png": "[encoded data removed]",
            "text/plain": [
              "<Figure size 640x480 with 5 Axes>"
            ]
          },
          "metadata": {},
          "output_type": "display_data"
        }
      ],
      "source": [
        "# Display some images from the training dataset\n",
        "for i, (image, label) in enumerate(train_data.take(5)):\n",
        "    ax = plt.subplot(1, 5, i + 1)\n",
        "    plt.imshow(image)\n",
        "    plt.title(dataset_info.features['label'].int2str(label))\n",
        "    plt.axis('off')\n",
        "plt.show()"
      ]
    },
    {
      "cell_type": "markdown",
      "metadata": {
        "id": "9ZO2yQ-p98K7"
      },
      "source": [
        "##Data Augmantation"
      ]
    },
    {
      "cell_type": "markdown",
      "metadata": {
        "id": "Vh3NbynZsWjH"
      },
      "source": [
        "###Using the tf.image"
      ]
    },
    {
      "cell_type": "code",
      "execution_count": null,
      "metadata": {
        "id": "ZiEsk3xu-BgC"
      },
      "outputs": [],
      "source": [
        "orignal_img ,label= next(iter(train_data))"
      ]
    },
    {
      "cell_type": "code",
      "execution_count": null,
      "metadata": {
        "id": "97FbHCN5_M6o"
      },
      "outputs": [],
      "source": [
        "def visualize(o_img,a_img):\n",
        "  plt.subplot(1,2,1)\n",
        "  plt.imshow(o_img)\n",
        "\n",
        "  plt.subplot(1,2,2)\n",
        "  plt.imshow(a_img)"
      ]
    },
    {
      "cell_type": "code",
      "execution_count": null,
      "metadata": {
        "id": "f4A9jy00-NkA"
      },
      "outputs": [],
      "source": [
        "augmantated_img = central_crop(orignal_img,0.79)"
      ]
    },
    {
      "cell_type": "code",
      "execution_count": null,
      "metadata": {
        "colab": {
          "base_uri": "https://localhost:8080/",
          "height": 290
        },
        "id": "3CWg8IJO-9bo",
        "outputId": "3c4d4d7b-5a39-4717-d830-960b463b4f0b"
      },
      "outputs": [
        {
          "data": {
            "image/png": "[encoded data removed]",
            "text/plain": [
              "<Figure size 640x480 with 2 Axes>"
            ]
          },
          "metadata": {},
          "output_type": "display_data"
        }
      ],
      "source": [
        "visualize(orignal_img,augmantated_img)"
      ]
    },
    {
      "cell_type": "markdown",
      "metadata": {
        "id": "doy7AQgrsdFv"
      },
      "source": [
        "###Using the tf.keras.layer"
      ]
    },
    {
      "cell_type": "code",
      "execution_count": null,
      "metadata": {
        "id": "nk2HPih1HZky"
      },
      "outputs": [],
      "source": [
        "img_size = 224\n",
        "resize_rescaling_layer = Sequential([\n",
        "    Resizing(img_size,img_size),\n",
        "    Rescaling(1.0/255),\n",
        "])"
      ]
    },
    {
      "cell_type": "code",
      "execution_count": null,
      "metadata": {
        "id": "fxoqjYXSqwOn"
      },
      "outputs": [],
      "source": [
        "augmantation_layer = Sequential([\n",
        "    RandomRotation(factor = (0.25,0.2501),),\n",
        "    RandomFlip(mode = 'horizontal',),\n",
        "])"
      ]
    },
    {
      "cell_type": "code",
      "execution_count": null,
      "metadata": {
        "id": "Ae0Z84R0_D82"
      },
      "outputs": [],
      "source": [
        "img_size = 224\n",
        "def preprocessing(image, label):\n",
        "    return tf.image.resize(image, (img_size, img_size)) / 255.0, tf.cast(label, tf.float32)"
      ]
    },
    {
      "cell_type": "code",
      "execution_count": null,
      "metadata": {
        "id": "1QaV5iAve5A8"
      },
      "outputs": [],
      "source": [
        "img_size = 224\n",
        "batch_size = 32\n",
        "def augmantation(image,label):\n",
        "\n",
        "    return augmantation_layer(resize_rescaling_layer(image),training = True),label\n"
      ]
    },
    {
      "cell_type": "markdown",
      "metadata": {
        "id": "FtnQZioQ018V"
      },
      "source": [
        "###Convert The Method to Layer Using Class"
      ]
    },
    {
      "cell_type": "code",
      "execution_count": null,
      "metadata": {
        "id": "UxPDW63v06Ql"
      },
      "outputs": [],
      "source": [
        "class Rot90(Layer):\n",
        "  def __init__(self):\n",
        "    super().__init__()\n",
        "  def call(self,image):\n",
        "    return rot90(image)"
      ]
    },
    {
      "cell_type": "markdown",
      "metadata": {
        "id": "sxpqb-wZ4T0m"
      },
      "source": [
        "##Mlxup Data Augmentation"
      ]
    },
    {
      "cell_type": "code",
      "execution_count": null,
      "metadata": {
        "id": "55MR5vDC-a0X"
      },
      "outputs": [],
      "source": [
        "train_data_1 = train_data.shuffle(buffer_size = 8 ,reshuffle_each_iteration = True).map(preprocessing)\n",
        "train_data_2 = train_data.shuffle(buffer_size = 8 ,reshuffle_each_iteration = True).map(preprocessing)\n",
        "\n",
        "mix_data = tf.data.Dataset.zip((train_data_1,train_data_2))"
      ]
    },
    {
      "cell_type": "code",
      "execution_count": null,
      "metadata": {
        "id": "xnBItywt4dBZ"
      },
      "outputs": [],
      "source": [
        "def mixup(train_dataset_1,train_dataset_2):\n",
        "\n",
        "  (img_1,label_1),(img_2,label_2) = train_dataset_1,train_dataset_2\n",
        "\n",
        "\n",
        "  lamda = tfp.distributions.Beta(0.2,0.2)\n",
        "  lamda = lamda.sample(1)[0]\n",
        "\n",
        "  image = lamda*img_1 + (1-lamda)*img_2\n",
        "  label = lamda*tf.cast(label_1,dtype = tf.float32) + (1-lamda)*tf.cast(label_2,dtype = tf.float32)\n",
        "  return image,label"
      ]
    },
    {
      "cell_type": "code",
      "execution_count": null,
      "metadata": {
        "id": "I1WxYNCkBP5X"
      },
      "outputs": [],
      "source": [
        "train_dataset = (\n",
        "               mix_data\n",
        "              .shuffle(buffer_size=8,reshuffle_each_iteration = True)\n",
        "              .map(mixup)\n",
        "              .batch(32)\n",
        "              .prefetch(tf.data.AUTOTUNE)\n",
        "             )"
      ]
    },
    {
      "cell_type": "code",
      "execution_count": null,
      "metadata": {
        "colab": {
          "base_uri": "https://localhost:8080/"
        },
        "id": "dt8LgdA4BvQl",
        "outputId": "b256889d-d937-423e-fc88-2c4348f1f34e"
      },
      "outputs": [
        {
          "data": {
            "text/plain": [
              "<_PrefetchDataset element_spec=(TensorSpec(shape=(None, 224, 224, 3), dtype=tf.float32, name=None), TensorSpec(shape=(None,), dtype=tf.float32, name=None))>"
            ]
          },
          "execution_count": 71,
          "metadata": {},
          "output_type": "execute_result"
        }
      ],
      "source": [
        "train_dataset"
      ]
    },
    {
      "cell_type": "code",
      "execution_count": null,
      "metadata": {
        "id": "xsn9mWHhJzfH"
      },
      "outputs": [],
      "source": [
        "original_image ,label = next(iter(train_data))\n",
        "plt.imshow(original_image[0])"
      ]
    },
    {
      "cell_type": "markdown",
      "metadata": {
        "id": "qxzQpZSWshGR"
      },
      "source": [
        "##Train , Validation and Test Data"
      ]
    },
    {
      "cell_type": "code",
      "execution_count": null,
      "metadata": {
        "id": "pxFgMTmoF8ZK"
      },
      "outputs": [],
      "source": [
        "train_data = (\n",
        "              train_data\n",
        "              .shuffle(buffer_size=8,reshuffle_each_iteration = True)\n",
        "              .batch(1)\n",
        "              .prefetch(tf.data.AUTOTUNE)\n",
        "              .map(preprocessing)\n",
        "             )"
      ]
    },
    {
      "cell_type": "code",
      "execution_count": null,
      "metadata": {
        "id": "2t8PBKJAyywT"
      },
      "outputs": [],
      "source": [
        "val_data = (\n",
        "              val_data\n",
        "              .shuffle(buffer_size=8,reshuffle_each_iteration = True)\n",
        "              .batch(1)\n",
        "              .prefetch(tf.data.AUTOTUNE)\n",
        "              .map(preprocessing)\n",
        "             )"
      ]
    },
    {
      "cell_type": "markdown",
      "metadata": {
        "id": "Xb3rDh3eEHwv"
      },
      "source": [
        "##CutMix Data Augmantation"
      ]
    },
    {
      "cell_type": "code",
      "execution_count": null,
      "metadata": {
        "id": "U3-xRwqTEODh"
      },
      "outputs": [],
      "source": [
        "##Example\n",
        "img_size = 224\n",
        "plt.figure(figsize=(16,8))\n",
        "plt.subplot(1,9,1)\n",
        "\n",
        "image_cat = cv2.resize(cv2.imread('cat.jpeg'),(img_size,img_size))\n",
        "plt.imshow(image_cat)\n",
        "\n",
        "plt.subplot(1,9,2)\n",
        "image_dog = cv2.resize(cv2.imread('dog.jpeg'),(img_size,img_size))\n",
        "plt.imshow(image_dog)\n",
        "\n",
        "plt.subplot(1,9,3)\n",
        "image_cat_crop = crop_to_bounding_box(image_cat,20,45,100,98)\n",
        "plt.imshow(image_cat_crop)\n",
        "\n",
        "plt.subplot(1,9,4)\n",
        "image_cat_crop_padding = pad_to_bounding_box(image_cat_crop,20,45,img_size,img_size)\n",
        "plt.imshow(image_cat_crop_padding)\n",
        "\n",
        "plt.subplot(1,9,5)\n",
        "image_dog_crop = crop_to_bounding_box(image_dog,20,45,100,98)\n",
        "plt.imshow(image_dog_crop)\n",
        "\n",
        "plt.subplot(1,9,6)\n",
        "image_dog_crop_padding = pad_to_bounding_box(image_dog_crop,20,45,img_size,img_size)\n",
        "plt.imshow(image_dog_crop_padding)\n",
        "\n",
        "plt.subplot(1,9,7)\n",
        "img = image_dog - image_dog_crop_padding\n",
        "plt.imshow(img)\n",
        "\n",
        "plt.subplot(1,9,8)\n",
        "plt.imshow(img+image_cat_crop_padding)"
      ]
    },
    {
      "cell_type": "code",
      "execution_count": null,
      "metadata": {
        "id": "184fnkEjjw_-"
      },
      "outputs": [],
      "source": [
        "def box(lamda):\n",
        "  r_x= tf.cast(tfp.distributions.Uniform(0, IM_SIZE).sample(1)[0], dtype = tf.int32)\n",
        "  r_y = tf.cast(tfp.distributions.Uniform(0, IM_SIZE).sample(1)[0], dtype = tf.int32)\n",
        "  r_w = tf.cast(IM_SIZE*tf.math.sqrt(1-lamda), dtype = tf.int32)\n",
        "  r_h = tf.cast(IM_SIZE*tf.math.sqrt(1-lamda), dtype = tf.int32)\n",
        "  r_x = tf.clip_by_value(r_x - r_w//2, 0, IM_SIZE)\n",
        "  r_y = tf.clip_by_value(r_y - r_h//2, 0, IM_SIZE)\n",
        "  x_b_r = tf.clip_by_value(r_x + r_w//2, 0, IM_SIZE)\n",
        "  y_b_r = tf.clip_by_value(r_y + r_h//2, 0, IM_SIZE)\n",
        "  r_w = x_b_r - r_x\n",
        "  if(r_w == 0):\n",
        "  r_w = 1\n",
        "  r_h = y_b_r - ry\n",
        "  if(r_h == 0):\n",
        "  r_h = 1\n",
        "  return r_y, r_x, r_h, r_w"
      ]
    },
    {
      "cell_type": "code",
      "execution_count": null,
      "metadata": {
        "id": "kTvgY_ZrNybR"
      },
      "outputs": [],
      "source": [
        "def mixup(train_dataset_1,train_dataset_2):\n",
        "\n",
        "  (img_1,label_1),(img_2,label_2) = train_dataset_1,train_dataset_2\n",
        "\n",
        "  lamda = tfp.distributions.Beta(0.2,0.2)\n",
        "  lamda = lamda.sample(1)[0]\n",
        "\n",
        "  r_y , r_x , r_h , r_w = box(lamda)\n",
        "  image_1_crop = crop_to_bounding_box(img_1,r_y , r_x , r_h , r_w)\n",
        "  image_1_crop_padding = pad_to_bounding_box(image_1_crop,r_y,r_x,img_size,img_size)\n",
        "\n",
        "  image_2_crop = crop_to_bounding_box(img_2,r_y , r_x , r_h , r_w)\n",
        "  image_2_crop_padding = pad_to_bounding_box(image_2_crop,r_y,r_x,img_size,img_size)\n",
        "\n",
        "  image = img_1 - image_1_crop_padding + image_2_crop_padding\n",
        "  return image,label"
      ]
    },
    {
      "cell_type": "markdown",
      "metadata": {
        "id": "Gwd36LSaxXbn"
      },
      "source": [
        "#Bulding The Models"
      ]
    },
    {
      "cell_type": "markdown",
      "metadata": {
        "id": "Rh1eVj7cSeHe"
      },
      "source": [
        "##WanDB\n"
      ]
    },
    {
      "cell_type": "code",
      "execution_count": null,
      "metadata": {
        "id": "yMH55pByShHC"
      },
      "outputs": [],
      "source": [
        "Config = wandb.config\n",
        "DROPOUT_RATE = Config[\"DROPOUT_RATE\"]\n",
        "IM_SIZE = Config[\"IM_SIZE\"]\n",
        "REGULARIZATION_RATE = Config[\"REGULARIZATION_RATE\"]\n",
        "N_FILTERS =Config[\"N_FILTERS\"]\n",
        "KERNEL_SIZE = Config[\"KERNEL_SIZE\"]\n",
        "N_STRIDES = Config[\"N_STRIDES\"]\n",
        "POOL_SIZE = Config[\"POOL_SIZE\"]\n",
        "\n",
        "# Build the model\n",
        "lenet_model_1 = Sequential([\n",
        "    InputLayer(input_shape=(None, None, 3)),\n",
        "    resize_rescaling_layer,\n",
        "    Conv2D(filters=8, kernel_size=3, strides=1, padding='valid', activation='relu',kernel_regularizer = L2(l2=0.01,)),\n",
        "    BatchNormalization(),\n",
        "    MaxPool2D(pool_size=2, strides=2),\n",
        "    Dropout(rate=DROPOUT_RATE),\n",
        "\n",
        "    Conv2D(filters=16, kernel_size=3, strides=1, padding='valid', activation='relu',kernel_regularizer = L2(l2=0.01,)),\n",
        "    BatchNormalization(),\n",
        "    MaxPool2D(pool_size=2, strides=2),\n",
        "\n",
        "    Flatten(),\n",
        "\n",
        "    Dense(100, activation='relu',kernel_regularizer = L2(l2=0.01,)),\n",
        "    BatchNormalization(),\n",
        "    Dropout(rate=DROPOUT_RATE),\n",
        "\n",
        "    Dense(10, activation='relu',kernel_regularizer = L2(l2=0.01,)),\n",
        "    BatchNormalization(),\n",
        "    Dense(1, activation='sigmoid')\n",
        "])\n",
        "\n",
        "lenet_model_1.summary()"
      ]
    },
    {
      "cell_type": "markdown",
      "metadata": {
        "id": "Xn17FoPvxb_W"
      },
      "source": [
        "##Sequantial API\n"
      ]
    },
    {
      "cell_type": "code",
      "execution_count": null,
      "metadata": {
        "colab": {
          "base_uri": "https://localhost:8080/"
        },
        "id": "7_NsbqCjuc7e",
        "outputId": "68d41f34-3679-48cf-f33a-3a99fc18a094"
      },
      "outputs": [
        {
          "name": "stdout",
          "output_type": "stream",
          "text": [
            "Model: \"sequential_2\"\n",
            "_________________________________________________________________\n",
            " Layer (type)                Output Shape              Param #   \n",
            "=================================================================\n",
            " sequential (Sequential)     (None, 224, 224, 3)       0         \n",
            "                                                                 \n",
            " conv2d (Conv2D)             (None, 222, 222, 8)       224       \n",
            "                                                                 \n",
            " batch_normalization (Batch  (None, 222, 222, 8)       32        \n",
            " Normalization)                                                  \n",
            "                                                                 \n",
            " max_pooling2d (MaxPooling2  (None, 111, 111, 8)       0         \n",
            " D)                                                              \n",
            "                                                                 \n",
            " dropout (Dropout)           (None, 111, 111, 8)       0         \n",
            "                                                                 \n",
            " conv2d_1 (Conv2D)           (None, 109, 109, 16)      1168      \n",
            "                                                                 \n",
            " batch_normalization_1 (Bat  (None, 109, 109, 16)      64        \n",
            " chNormalization)                                                \n",
            "                                                                 \n",
            " max_pooling2d_1 (MaxPoolin  (None, 54, 54, 16)        0         \n",
            " g2D)                                                            \n",
            "                                                                 \n",
            " flatten (Flatten)           (None, 46656)             0         \n",
            "                                                                 \n",
            " dense (Dense)               (None, 100)               4665700   \n",
            "                                                                 \n",
            " batch_normalization_2 (Bat  (None, 100)               400       \n",
            " chNormalization)                                                \n",
            "                                                                 \n",
            " dropout_1 (Dropout)         (None, 100)               0         \n",
            "                                                                 \n",
            " dense_1 (Dense)             (None, 10)                1010      \n",
            "                                                                 \n",
            " batch_normalization_3 (Bat  (None, 10)                40        \n",
            " chNormalization)                                                \n",
            "                                                                 \n",
            " dense_2 (Dense)             (None, 1)                 11        \n",
            "                                                                 \n",
            "=================================================================\n",
            "Total params: 4668649 (17.81 MB)\n",
            "Trainable params: 4668381 (17.81 MB)\n",
            "Non-trainable params: 268 (1.05 KB)\n",
            "_________________________________________________________________\n"
          ]
        }
      ],
      "source": [
        "imgsize = 224\n",
        "dropout_rate = 0.3\n",
        "\n",
        "# Build the model\n",
        "lenet_model_1 = Sequential([\n",
        "    InputLayer(input_shape=(None, None, 3)),\n",
        "    resize_rescaling_layer,\n",
        "    Conv2D(filters=8, kernel_size=3, strides=1, padding='valid', activation='relu',kernel_regularizer = L2(l2=0.01,)),\n",
        "    BatchNormalization(),\n",
        "    MaxPool2D(pool_size=2, strides=2),\n",
        "    Dropout(rate=dropout_rate),\n",
        "\n",
        "    Conv2D(filters=16, kernel_size=3, strides=1, padding='valid', activation='relu',kernel_regularizer = L2(l2=0.01,)),\n",
        "    BatchNormalization(),\n",
        "    MaxPool2D(pool_size=2, strides=2),\n",
        "\n",
        "    Flatten(),\n",
        "\n",
        "    Dense(100, activation='relu',kernel_regularizer = L2(l2=0.01,)),\n",
        "    BatchNormalization(),\n",
        "    Dropout(rate=dropout_rate),\n",
        "\n",
        "    Dense(10, activation='relu',kernel_regularizer = L2(l2=0.01,)),\n",
        "    BatchNormalization(),\n",
        "    Dense(1, activation='sigmoid')\n",
        "])\n",
        "\n",
        "lenet_model_1.summary()"
      ]
    },
    {
      "cell_type": "markdown",
      "metadata": {
        "id": "5pnFF-hFxgKy"
      },
      "source": [
        "##Functional API\n"
      ]
    },
    {
      "cell_type": "code",
      "execution_count": null,
      "metadata": {
        "colab": {
          "base_uri": "https://localhost:8080/"
        },
        "id": "6wVuull3uvEz",
        "outputId": "2a1c04c0-1efa-492f-ffa5-1a2a6df9749c"
      },
      "outputs": [
        {
          "name": "stdout",
          "output_type": "stream",
          "text": [
            "Model: \"model_6\"\n",
            "_________________________________________________________________\n",
            " Layer (type)                Output Shape              Param #   \n",
            "=================================================================\n",
            " input_9 (InputLayer)        [(None, 224, 224, 3)]     0         \n",
            "                                                                 \n",
            " conv2d_10 (Conv2D)          (None, 222, 222, 8)       224       \n",
            "                                                                 \n",
            " batch_normalization_20 (Ba  (None, 222, 222, 8)       32        \n",
            " tchNormalization)                                               \n",
            "                                                                 \n",
            " max_pooling2d_10 (MaxPooli  (None, 111, 111, 8)       0         \n",
            " ng2D)                                                           \n",
            "                                                                 \n",
            " conv2d_11 (Conv2D)          (None, 109, 109, 16)      1168      \n",
            "                                                                 \n",
            " batch_normalization_21 (Ba  (None, 109, 109, 16)      64        \n",
            " tchNormalization)                                               \n",
            "                                                                 \n",
            " max_pooling2d_11 (MaxPooli  (None, 54, 54, 16)        0         \n",
            " ng2D)                                                           \n",
            "                                                                 \n",
            "=================================================================\n",
            "Total params: 1488 (5.81 KB)\n",
            "Trainable params: 1440 (5.62 KB)\n",
            "Non-trainable params: 48 (192.00 Byte)\n",
            "_________________________________________________________________\n"
          ]
        }
      ],
      "source": [
        "Config = wandb.config\n",
        "DROPOUT_RATE = Config[\"DROPOUT_RATE\"]\n",
        "IM_SIZE = Config[\"IM_SIZE\"]\n",
        "REGULARIZATION_RATE = Config[\"REGULARIZATION_RATE\"]\n",
        "N_FILTERS =Config[\"N_FILTERS\"]\n",
        "KERNEL_SIZE = Config[\"KERNEL_SIZE\"]\n",
        "N_STRIDES = Config[\"N_STRIDES\"]\n",
        "POOL_SIZE = Config[\"POOL_SIZE\"]\n",
        "\n",
        "fun_input = Input(shape = (IM_SIZE, IM_SIZE , 3))\n",
        "x = Conv2D(filters=8, kernel_size=3, strides=1, padding='valid', activation='relu')(fun_input)\n",
        "x = BatchNormalization()(x)\n",
        "x = MaxPool2D(pool_size=2, strides=2)(x)\n",
        "x = Conv2D(filters=16, kernel_size=3, strides=1, padding='valid', activation='relu')(x)\n",
        "x = BatchNormalization()(x)\n",
        "output = MaxPool2D(pool_size=2, strides=2)(x)\n",
        "\n",
        "lenet_model_Feature_extractor = Model(fun_input,output)\n",
        "lenet_model_Feature_extractor.summary()"
      ]
    },
    {
      "cell_type": "code",
      "execution_count": null,
      "metadata": {
        "colab": {
          "base_uri": "https://localhost:8080/"
        },
        "id": "N8SuYc1Xr5y8",
        "outputId": "2527e5b9-9766-4399-b069-0bd806fcfc3d"
      },
      "outputs": [
        {
          "name": "stdout",
          "output_type": "stream",
          "text": [
            "Model: \"model_7\"\n",
            "_________________________________________________________________\n",
            " Layer (type)                Output Shape              Param #   \n",
            "=================================================================\n",
            " input_10 (InputLayer)       [(None, 224, 224, 3)]     0         \n",
            "                                                                 \n",
            " model_6 (Functional)        (None, 54, 54, 16)        1488      \n",
            "                                                                 \n",
            " flatten_5 (Flatten)         (None, 46656)             0         \n",
            "                                                                 \n",
            " dense_15 (Dense)            (None, 1000)              46657000  \n",
            "                                                                 \n",
            " batch_normalization_22 (Ba  (None, 1000)              4000      \n",
            " tchNormalization)                                               \n",
            "                                                                 \n",
            " dense_16 (Dense)            (None, 100)               100100    \n",
            "                                                                 \n",
            " batch_normalization_23 (Ba  (None, 100)               400       \n",
            " tchNormalization)                                               \n",
            "                                                                 \n",
            " dense_17 (Dense)            (None, 1)                 101       \n",
            "                                                                 \n",
            "=================================================================\n",
            "Total params: 46763089 (178.39 MB)\n",
            "Trainable params: 46760841 (178.38 MB)\n",
            "Non-trainable params: 2248 (8.78 KB)\n",
            "_________________________________________________________________\n"
          ]
        }
      ],
      "source": [
        "\n",
        "fun_input = Input(shape = (IM_SIZE, IM_SIZE , 3))\n",
        "\n",
        "x = lenet_model_Feature_extractor(fun_input)\n",
        "x = Flatten()(x)\n",
        "\n",
        "x = Dense(1000, activation='relu')(x)\n",
        "x = BatchNormalization()(x)\n",
        "x = Dense(100, activation='relu')(x)\n",
        "x = BatchNormalization()(x)\n",
        "\n",
        "fun_output = Dense(1, activation='sigmoid')(x)\n",
        "\n",
        "lenet_model_functional = Model(fun_input,fun_output)\n",
        "lenet_model_functional.summary()"
      ]
    },
    {
      "cell_type": "markdown",
      "metadata": {
        "id": "rrjGHsjj-SZv"
      },
      "source": [
        "##Model Subclassing"
      ]
    },
    {
      "cell_type": "code",
      "execution_count": null,
      "metadata": {
        "id": "PMNoQVFOyT5B"
      },
      "outputs": [],
      "source": [
        "class FeatureExtractor(Layer):\n",
        "  def __init__(self , filters , kernel_size , strides , padding , activation , pool_size):\n",
        "    super(FeatureExtractor , self).__init__()\n",
        "\n",
        "    self.conv_1 = Conv2D(filters = filters, kernel_size = kernel_size , strides = strides, padding = padding, activation = activation)\n",
        "    self.batch_1 = BatchNormalization()\n",
        "    self.pool_1 = MaxPool2D(pool_size = pool_size, strides=2*strides)\n",
        "\n",
        "\n",
        "    self.conv_2 = Conv2D(filters = filters *2, kernel_size = kernel_size , strides = strides, padding = padding, activation = activation)\n",
        "    self.batch_2 = BatchNormalization()\n",
        "    self.pool_2 = MaxPool2D(pool_size = pool_size, strides=2*strides)\n",
        "\n",
        "    def call(self , x , training):\n",
        "\n",
        "      x = self.conv_1(x)\n",
        "      x = self.batch_1(x)\n",
        "      x = self.pool_1(x)\n",
        "\n",
        "      x = self.conv_2(x)\n",
        "      x = self.batch_2(x)\n",
        "      x = self.pool_2(x)\n",
        "\n",
        "      return x\n",
        "\n",
        "Feature_Extractor_sub_class = FeatureExtractor( 8 , 3 , 1 , 'valid' , 'relu' , 2)\n"
      ]
    },
    {
      "cell_type": "code",
      "execution_count": null,
      "metadata": {
        "id": "GwZfvsVz6LKQ"
      },
      "outputs": [],
      "source": [
        "class LenetModel(Model):\n",
        "  def __init__(self):\n",
        "    super(LenetModel, self).__init__()\n",
        "\n",
        "    self.Feature_Extractor = FeatureExtractor(8, 3, 1, 'valid', 'relu', 2)\n",
        "\n",
        "    self.flatten = Flatten()\n",
        "\n",
        "    self.dense_1 = Dense(100, activation='relu')\n",
        "    self.batch_1 = BatchNormalization()\n",
        "\n",
        "    self.dense_2 = Dense(10, activation='relu')\n",
        "    self.batch_2 = BatchNormalization()\n",
        "\n",
        "    self.dense_3 = Dense(1, activation='sigmoid')\n",
        "\n",
        "  def call(self, x, training=False):\n",
        "    x = self.Feature_Extractor(x, training=training)\n",
        "    x = self.flatten(x)\n",
        "    x = self.dense_1(x)\n",
        "    x = self.batch_1(x, training=training)\n",
        "    x = self.dense_2(x)\n",
        "    x = self.batch_2(x, training=training)\n",
        "    x = self.dense_3(x)\n",
        "    return x\n",
        "\n",
        "Lenet_model_with_class = LenetModel()\n",
        "output = Lenet_model_with_class(tf.zeros([1, 224, 224, 3]))\n",
        "Lenet_model_with_class.summary()\n"
      ]
    },
    {
      "cell_type": "markdown",
      "metadata": {
        "id": "NyHleoTVA0tF"
      },
      "source": [
        "##Build The our Own Model"
      ]
    },
    {
      "cell_type": "code",
      "execution_count": null,
      "metadata": {
        "id": "XNpzldUEAy9e"
      },
      "outputs": [],
      "source": [
        "class CustomModel(Layer):\n",
        "  def __init__(self,output_units , activation):\n",
        "    super(CustomModel , self).__init__()\n",
        "    self.output_units = output_units\n",
        "    self.activation = activation\n",
        "  def build(self,input_feature_shape):\n",
        "    self.w = self.add_weight(shape = (input_feature_shape[-1],self.output_units),initializer = \"random_normal\",trainable = True)\n",
        "    self.b = self.add_weight(shape = (self.output_units,),initializer = \"random_normal\",trainable = True)\n",
        "  def call(self,input_feature):\n",
        "    pre_output = tf.matmul(input_feature,self.w) + self.b\n",
        "    if (self.activation == \"relu\"):\n",
        "      return tf.nn.relu(pre_output)\n",
        "    elif (self.activation == \"sigmoid\"):\n",
        "        return tf.math.sigmoid(pre_output)\n",
        "    else:\n",
        "      return pre_output"
      ]
    },
    {
      "cell_type": "code",
      "execution_count": null,
      "metadata": {
        "id": "aHGtcEodX2Q0"
      },
      "outputs": [],
      "source": [
        "img_size = 224\n",
        "\n",
        "lenet_custom_model = Sequential([\n",
        "    InputLayer(input_shape=(img_size, img_size, 3)),\n",
        "    Conv2D(filters=6, kernel_size=3, strides=1, padding='valid', activation='relu'),\n",
        "    BatchNormalization(),\n",
        "    MaxPool2D(pool_size=2, strides=2),\n",
        "    Conv2D(filters=16, kernel_size=3, strides=1, padding='valid', activation='relu'),\n",
        "    BatchNormalization(),\n",
        "    MaxPool2D(pool_size=2, strides=2),\n",
        "    Flatten(),\n",
        "    CustomModel(100, activation='relu'),\n",
        "    BatchNormalization(),\n",
        "    CustomModel(10, activation='relu'),\n",
        "    BatchNormalization(),\n",
        "    CustomModel(1, activation='sigmoid')\n",
        "])\n",
        "lenet_custom_model.summary()"
      ]
    },
    {
      "cell_type": "markdown",
      "metadata": {
        "id": "-xifhAFQxr3y"
      },
      "source": [
        "#Model Compilation"
      ]
    },
    {
      "cell_type": "markdown",
      "metadata": {
        "id": "y7guOSX0xySc"
      },
      "source": [
        "##Sequantial"
      ]
    },
    {
      "cell_type": "markdown",
      "metadata": {
        "id": "nPRoc0-38ydH"
      },
      "source": [
        "###Custom Loss-Function"
      ]
    },
    {
      "cell_type": "code",
      "execution_count": null,
      "metadata": {
        "id": "u-DXR_x39BBL"
      },
      "outputs": [],
      "source": [
        "factor = 1\n",
        "def custom_bce(factor):\n",
        "  def loss(y_true,y_pred):\n",
        "    bce = BinaryCrossentropy()\n",
        "    return bce(y_true,y_pred) *factor\n",
        "  return loss"
      ]
    },
    {
      "cell_type": "markdown",
      "metadata": {
        "id": "G1FhbdwY-zpD"
      },
      "source": [
        "###Custom Loss-Function Class"
      ]
    },
    {
      "cell_type": "code",
      "execution_count": null,
      "metadata": {
        "id": "8WyP3l2N-3lV"
      },
      "outputs": [],
      "source": [
        "class CustomBCE(tf.keras.losses.Loss):\n",
        "  def __init__(self,factor):\n",
        "    super(CustomBCE , self).__init__()\n",
        "    self.factor = factor\n",
        "  def call(self,y_true,y_pred):\n",
        "    bce = BinaryCrossentropy()\n",
        "    return bce(y_true,y_pred)*factor"
      ]
    },
    {
      "cell_type": "markdown",
      "metadata": {
        "id": "kKjNBWgx886L"
      },
      "source": [
        "###In Build"
      ]
    },
    {
      "cell_type": "code",
      "execution_count": null,
      "metadata": {
        "id": "ffPEWhxHvpdA"
      },
      "outputs": [],
      "source": [
        "metric = [BinaryAccuracy(name='accuracy'), TruePositives(name='tp'), FalsePositives(name='fp'), TrueNegatives(name='tn'), FalseNegatives(name='fn'), Precision(name='precision'), Recall(name='recall'), AUC(name='AUC')]"
      ]
    },
    {
      "cell_type": "code",
      "execution_count": null,
      "metadata": {
        "id": "ZGX8MA6fV5xn"
      },
      "outputs": [],
      "source": [
        "lenet_model_1.compile(optimizer=Adam(learning_rate=Config['LEARNING_RATE']),\n",
        "                    loss=BinaryCrossentropy(),\n",
        "                    metrics= metric)"
      ]
    },
    {
      "cell_type": "markdown",
      "metadata": {
        "id": "FEA13_ZrP005"
      },
      "source": [
        "###Custom Metric (accuracy)"
      ]
    },
    {
      "cell_type": "code",
      "execution_count": null,
      "metadata": {
        "id": "JENPdhB5P50N",
        "outputId": "5ea55975-0a56-480e-ce4a-ac8333c9a518",
        "colab": {
          "base_uri": "https://localhost:8080/",
          "height": 176
        }
      },
      "outputs": [
        {
          "output_type": "error",
          "ename": "NameError",
          "evalue": "name 'tf' is not defined",
          "traceback": [
            "\u001b[0;31m---------------------------------------------------------------------------\u001b[0m",
            "\u001b[0;31mNameError\u001b[0m                                 Traceback (most recent call last)",
            "\u001b[0;32m<ipython-input-2-b324a91f72a4>\u001b[0m in \u001b[0;36m<cell line: 1>\u001b[0;34m()\u001b[0m\n\u001b[0;32m----> 1\u001b[0;31m \u001b[0;34m@\u001b[0m\u001b[0mtf\u001b[0m\u001b[0;34m.\u001b[0m\u001b[0mfunction\u001b[0m\u001b[0;34m\u001b[0m\u001b[0;34m\u001b[0m\u001b[0m\n\u001b[0m\u001b[1;32m      2\u001b[0m \u001b[0;32mdef\u001b[0m \u001b[0mcustom_acc\u001b[0m\u001b[0;34m(\u001b[0m\u001b[0my_true\u001b[0m\u001b[0;34m,\u001b[0m\u001b[0my_pred\u001b[0m\u001b[0;34m)\u001b[0m\u001b[0;34m:\u001b[0m\u001b[0;34m\u001b[0m\u001b[0;34m\u001b[0m\u001b[0m\n\u001b[1;32m      3\u001b[0m   \u001b[0;32mreturn\u001b[0m \u001b[0mbinary_accuracy\u001b[0m\u001b[0;34m(\u001b[0m\u001b[0my_true\u001b[0m\u001b[0;34m,\u001b[0m\u001b[0my_pred\u001b[0m\u001b[0;34m)\u001b[0m\u001b[0;34m\u001b[0m\u001b[0;34m\u001b[0m\u001b[0m\n",
            "\u001b[0;31mNameError\u001b[0m: name 'tf' is not defined"
          ]
        }
      ],
      "source": [
        "@tf.function\n",
        "def custom_acc(y_true,y_pred):\n",
        "  return binary_accuracy(y_true,y_pred)"
      ]
    },
    {
      "cell_type": "code",
      "execution_count": null,
      "metadata": {
        "id": "F3Vse20YQkB2"
      },
      "outputs": [],
      "source": [
        "factor = 1\n",
        "def custom_acc(factor):\n",
        "  def acc(y_true,y_pred):\n",
        "    return binary_accuracy(y_true,y_pred)*factor\n",
        "  return acc"
      ]
    },
    {
      "cell_type": "markdown",
      "metadata": {
        "id": "l_eUdpp4RFJy"
      },
      "source": [
        "###Custom Matric (accuracy) class"
      ]
    },
    {
      "cell_type": "code",
      "execution_count": null,
      "metadata": {
        "id": "3yGkPB6hROht"
      },
      "outputs": [],
      "source": [
        "factor = 1\n",
        "class CustomAcc(tf.keras.metrics.Metric):\n",
        "  def __init__(self,name = 'Custom_accuracy',factor=1):\n",
        "    super(CustomAcc,self).__init__()\n",
        "    self.factor = factor\n",
        "    self.accuracy = self.add_weigth(name=name,initializer = 'zeros')\n",
        "\n",
        "  def update_state(self,y_true,y_pred,sample_weight = None):\n",
        "    output = binary_accuracy(tf.cast(y_true,dtype= tf.float32),y_pred)*self.factor\n",
        "    self.accuracy.assign(tf.math.count_nonzero(output,dtype=tf.float32)/tf.cast(len(output),dtype= tf.float32))\n",
        "\n",
        "  def result(self):\n",
        "    return self.accuracy\n",
        "\n",
        "  def reset_states(self):\n",
        "    self.accuracy.assign(0.)"
      ]
    },
    {
      "cell_type": "markdown",
      "metadata": {
        "id": "neZssafvx5K3"
      },
      "source": [
        "##Functional"
      ]
    },
    {
      "cell_type": "code",
      "execution_count": null,
      "metadata": {
        "id": "-26id4pLuEHG"
      },
      "outputs": [],
      "source": [
        "# Compile the model\n",
        "lenet_model_functional.compile(optimizer=Adam(learning_rate=0.01),\n",
        "                    loss=BinaryCrossentropy(),\n",
        "                    metrics=metric)"
      ]
    },
    {
      "cell_type": "markdown",
      "metadata": {
        "id": "uaSa_QwR-nyQ"
      },
      "source": [
        "##Model Subclassing"
      ]
    },
    {
      "cell_type": "code",
      "execution_count": null,
      "metadata": {
        "id": "uIbwBRy1-srv"
      },
      "outputs": [],
      "source": [
        "Lenet_model_with_class.compile(optimizer=Adam(learning_rate=0.01),\n",
        "                    loss=BinaryCrossentropy(),\n",
        "                    metrics='accuracy')"
      ]
    },
    {
      "cell_type": "markdown",
      "metadata": {
        "id": "VvuSi5IGhoE0"
      },
      "source": [
        "#Custom Model"
      ]
    },
    {
      "cell_type": "code",
      "execution_count": null,
      "metadata": {
        "id": "Alrb35QUhrJf"
      },
      "outputs": [],
      "source": [
        "lenet_custom_model.compile(optimizer=Adam(learning_rate=0.01),\n",
        "                    loss=BinaryCrossentropy(),\n",
        "                    metrics='accuracy')"
      ]
    },
    {
      "cell_type": "markdown",
      "metadata": {
        "id": "aWo9dJPeHVnh"
      },
      "source": [
        "#CallBacks"
      ]
    },
    {
      "cell_type": "markdown",
      "metadata": {
        "id": "4x5TysJO_Vbn"
      },
      "source": [
        "##Loss CallBack with Class"
      ]
    },
    {
      "cell_type": "code",
      "execution_count": null,
      "metadata": {
        "id": "ZRBJFfPrHbXn"
      },
      "outputs": [],
      "source": [
        "class LossCallback(Callback):\n",
        "  def on_epoch_end(self,epoch,logs):\n",
        "    print(\"\\n For Epoch Number {} the loss is {}\".format(epoch,logs[\"loss\"]))"
      ]
    },
    {
      "cell_type": "markdown",
      "metadata": {
        "id": "dC0Vs4dkUPFL"
      },
      "source": [
        "##CSVlogger\n"
      ]
    },
    {
      "cell_type": "code",
      "execution_count": null,
      "metadata": {
        "id": "c3CT-tctURm5"
      },
      "outputs": [],
      "source": [
        "csv_callback = CSVLogger(\n",
        "    'logs.csv' , separator = \",\" , append = True\n",
        ")"
      ]
    },
    {
      "cell_type": "markdown",
      "metadata": {
        "id": "BHLE80_2yV-k"
      },
      "source": [
        "##EarlyStopping"
      ]
    },
    {
      "cell_type": "code",
      "execution_count": null,
      "metadata": {
        "id": "8mITxklRyZhs"
      },
      "outputs": [],
      "source": [
        "es_callback = EarlyStopping(\n",
        "    monitor = 'val_loss',min_delta = 0,patience = 2,verbose =1,\n",
        "    mode = 'auto',baseline=None , restore_best_weights=False\n",
        ")"
      ]
    },
    {
      "cell_type": "markdown",
      "metadata": {
        "id": "zomfZWoAv7sE"
      },
      "source": [
        "##Model Check Point"
      ]
    },
    {
      "cell_type": "code",
      "execution_count": null,
      "metadata": {
        "id": "SqVKroeSwAcN"
      },
      "outputs": [],
      "source": [
        "model_check_point = ModelCheckpoint(\n",
        "    'checkpoints/', monitor = 'val_loss',verbose = 0,\n",
        "    save_best_only = True,\n",
        "    save_weights_only = False,\n",
        "    mode = 'auto',\n",
        "    save_freq=3,\n",
        "    options=None,\n",
        "    initial_value_threshold=None,\n",
        ")"
      ]
    },
    {
      "cell_type": "markdown",
      "metadata": {
        "id": "b7mCcZUey3BT"
      },
      "source": [
        "##ReduceLROnPlateau"
      ]
    },
    {
      "cell_type": "code",
      "execution_count": null,
      "metadata": {
        "id": "TAfAtZqYy-7E"
      },
      "outputs": [],
      "source": [
        "plateau_call = ReduceLROnPlateau(\n",
        "    monitor='val_loss',factor=0.1,patience=2,verbose=1\n",
        ")"
      ]
    },
    {
      "cell_type": "markdown",
      "metadata": {
        "id": "jUC7gysU82Ks"
      },
      "source": [
        "##Tensorboard"
      ]
    },
    {
      "cell_type": "code",
      "execution_count": null,
      "metadata": {
        "id": "1IvpUq3089W-"
      },
      "outputs": [],
      "source": [
        "tensorboard_callback =  TensorBoard(log_dir=\"./logs\")"
      ]
    },
    {
      "cell_type": "markdown",
      "metadata": {
        "id": "EAg4bjYvx7bE"
      },
      "source": [
        "#Model Training"
      ]
    },
    {
      "cell_type": "markdown",
      "metadata": {
        "id": "8yLEAIXjTL9G"
      },
      "source": [
        "##Custom Training Loop"
      ]
    },
    {
      "cell_type": "code",
      "execution_count": null,
      "metadata": {
        "id": "U20al6j2X5dg"
      },
      "outputs": [],
      "source": [
        "OPTIMIZER = Adam(learning_rate = 0.01)\n",
        "METRIC = BinaryAccuracy()\n",
        "METRIC_VAL = BinaryAccuracy()\n",
        "EPOCHS = 3"
      ]
    },
    {
      "cell_type": "code",
      "execution_count": null,
      "metadata": {
        "id": "oqzmRTIDVQWg"
      },
      "outputs": [],
      "source": [
        "@tf.function\n",
        "def training_block(x_batch, y_batch):\n",
        "  with tf.GradientTape() as recorder:\n",
        "    y_pred = lenet_model_1(x_batch, training = True)\n",
        "    loss = custom_bce(y_batch, y_pred)\n",
        "  partial_derivatives = recorder.gradient(loss, lenet_model_1.trainable_weights)\n",
        "  OPTIMIZER.apply_gradients(zip(partial_derivatives, lenet_model_1.trainable_weights))\n",
        "  METRIC.update_state(y_batch, y_pred)\n",
        "  return loss\n",
        "@tf.function\n",
        "def val_block(x_batch_val, y_batch_val):\n",
        "  y_pred_val = lenet_model_1(x_batch_val, training = False)\n",
        "  loss_val = custom_bce(y_batch_val, y_pred_val)\n",
        "  METRIC_VAL.update_state(y_batch_val, y_pred_val)\n",
        "  return loss_val"
      ]
    },
    {
      "cell_type": "code",
      "execution_count": null,
      "metadata": {
        "id": "qXMmnNm_TP75"
      },
      "outputs": [],
      "source": [
        "def custom_fit(model,loss_function,METRIC,METRIC_VAL,OPTIMIZER,train_data,val_data,EPOCHS)\n",
        "  for epoch in range(EPOCHS):\n",
        "    print(\"Epoch {}/{}\".format(epoch+1,EPOCHS))\n",
        "    for step, (x_batch, y_batch) in enumerate(train_data):\n",
        "      loss = training_block(x_batch,y_batch)\n",
        "    print(\"Training Loss\", loss)\n",
        "    print(\"The accuracy is: \", METRIC.result())\n",
        "    METRIC.reset_states()\n",
        "    for (x_batch_val, y_batch_val) in val_data:\n",
        "      loss_val = METRIC.reset_states()\n",
        "    print(\"The Validation loss\", loss_val)\n",
        "    print(\"The Validation accuracy is: \", METRIC_VAL.result())\n",
        "    METRIC_VAL.reset_states()"
      ]
    },
    {
      "cell_type": "markdown",
      "metadata": {
        "id": "0lAb9DrnyJ99"
      },
      "source": [
        "##Sequantial"
      ]
    },
    {
      "cell_type": "code",
      "execution_count": null,
      "metadata": {
        "id": "YfWBM6nVV-CN"
      },
      "outputs": [],
      "source": [
        "# Train the model\n",
        "history = lenet_model_1.fit(train_data, validation_data=val_data, epochs=3, verbose=1 ,callbacks = [WandbCallback()])"
      ]
    },
    {
      "cell_type": "markdown",
      "metadata": {
        "id": "d_WeNsNNyBW1"
      },
      "source": [
        "##Functional\n"
      ]
    },
    {
      "cell_type": "code",
      "execution_count": null,
      "metadata": {
        "colab": {
          "base_uri": "https://localhost:8080/"
        },
        "id": "P8mDkRUEuXD6",
        "outputId": "0ad3665c-a412-48a1-ee9d-8a61d2e1b24b"
      },
      "outputs": [
        {
          "name": "stdout",
          "output_type": "stream",
          "text": [
            "Epoch 1/3\n",
            "    4/22046 [..............................] - ETA: 7:42 - loss: 0.7054 - accuracy: 0.5063 - tp: 962.0000 - fp: 910.0000 - tn: 774.0000 - fn: 783.0000 - precision: 0.5139 - recall: 0.5513 - AUC: 0.5016    "
          ]
        },
        {
          "name": "stderr",
          "output_type": "stream",
          "text": [
            "WARNING:tensorflow:Callback method `on_train_batch_end` is slow compared to the batch time (batch time: 0.0076s vs `on_train_batch_end` time: 0.0111s). Check your callbacks.\n"
          ]
        },
        {
          "name": "stdout",
          "output_type": "stream",
          "text": [
            "22046/22046 [==============================] - 470s 21ms/step - loss: 0.6987 - accuracy: 0.4985 - tp: 6586.0000 - fp: 6594.0000 - tn: 6112.0000 - fn: 6179.0000 - precision: 0.4997 - recall: 0.5159 - AUC: 0.4987 - val_loss: 34.5753 - val_accuracy: 0.4672 - val_tp: 354.0000 - val_fp: 429.0000 - val_tn: 933.0000 - val_fn: 1039.0000 - val_precision: 0.4521 - val_recall: 0.2541 - val_AUC: 0.4618\n",
            "Epoch 2/3\n",
            "   22/22046 [..............................] - ETA: 7:08 - loss: 0.6960 - accuracy: 0.5000 - tp: 0.0000e+00 - fp: 0.0000e+00 - tn: 11.0000 - fn: 11.0000 - precision: 0.0000e+00 - recall: 0.0000e+00 - AUC: 0.3636"
          ]
        }
      ],
      "source": [
        "# Train the model\n",
        "history = lenet_model_functional.fit(train_data, validation_data=val_data, epochs=3, verbose=1 ,callbacks = [WandbCallback()])"
      ]
    },
    {
      "cell_type": "markdown",
      "metadata": {
        "id": "0R4hxSo5-0jX"
      },
      "source": [
        "##Model Subclassing"
      ]
    },
    {
      "cell_type": "code",
      "execution_count": null,
      "metadata": {
        "id": "gIw9Eo3l-2H_"
      },
      "outputs": [],
      "source": [
        "history = Lenet_model_with_class.fit(train_data, validation_data=val_data, epochs=3, verbose=1)"
      ]
    },
    {
      "cell_type": "markdown",
      "metadata": {
        "id": "u-JgaM0Phyul"
      },
      "source": [
        "##Custom Model Training"
      ]
    },
    {
      "cell_type": "code",
      "execution_count": null,
      "metadata": {
        "id": "qmPOYakFh3jt"
      },
      "outputs": [],
      "source": [
        "history = lenet_custom_model.fit(train_data, validation_data=val_data, epochs=3, verbose=1)"
      ]
    },
    {
      "cell_type": "markdown",
      "metadata": {
        "id": "qDWApVXryNP1"
      },
      "source": [
        "#Visualizations"
      ]
    },
    {
      "cell_type": "code",
      "execution_count": null,
      "metadata": {
        "id": "y0YlhekHFFOY"
      },
      "outputs": [],
      "source": [
        "Tranfomer"
      ]
    },
    {
      "cell_type": "code",
      "execution_count": null,
      "metadata": {
        "id": "uzDxERDqCTuP"
      },
      "outputs": [],
      "source": [
        "%load_ext tensorboard"
      ]
    },
    {
      "cell_type": "code",
      "execution_count": null,
      "metadata": {
        "id": "w9fYnDjpB2ss"
      },
      "outputs": [],
      "source": [
        "# log_dir = './logs'\n",
        "# %tensorboard --logdir = './logs'\n",
        "!tensorboard --logdir=./logs"
      ]
    },
    {
      "cell_type": "code",
      "execution_count": null,
      "metadata": {
        "colab": {
          "base_uri": "https://localhost:8080/",
          "height": 449
        },
        "id": "Ax8STzYKV_vp",
        "outputId": "af9b7ce3-7cc8-4d5c-b529-4b16a833a95b"
      },
      "outputs": [
        {
          "data": {
            "image/png": "[encoded data removed]",
            "text/plain": [
              "<Figure size 640x480 with 1 Axes>"
            ]
          },
          "metadata": {},
          "output_type": "display_data"
        }
      ],
      "source": [
        "# Plot training history\n",
        "plt.plot(history.history['accuracy'], label='Training Accuracy')\n",
        "plt.plot(history.history['val_accuracy'], label='Validation Accuracy')\n",
        "# plt.plot(history.history['loss'], label='Training loss')\n",
        "# plt.plot(history.history['val_loss'], label='Validation loss')\n",
        "plt.xlabel('Epoch')\n",
        "plt.ylabel('Accuracy')\n",
        "plt.legend()\n",
        "plt.show()"
      ]
    },
    {
      "cell_type": "markdown",
      "metadata": {
        "id": "25pvQ-egyaHX"
      },
      "source": [
        "#Testing The Model"
      ]
    },
    {
      "cell_type": "code",
      "execution_count": null,
      "metadata": {
        "id": "mi_f2GUwutVR"
      },
      "outputs": [],
      "source": [
        "test_data = test_data.map(preprocessing).batch(1).prefetch(tf.data.AUTOTUNE)"
      ]
    },
    {
      "cell_type": "code",
      "execution_count": null,
      "metadata": {
        "colab": {
          "base_uri": "https://localhost:8080/"
        },
        "id": "hJWtU5rhxkIo",
        "outputId": "b6d096d8-dffc-4d0e-f19d-b09b55cfeaf7"
      },
      "outputs": [
        {
          "data": {
            "text/plain": [
              "<_PrefetchDataset element_spec=(TensorSpec(shape=(None, 224, 224, 3), dtype=tf.float32, name=None), TensorSpec(shape=(None,), dtype=tf.float32, name=None))>"
            ]
          },
          "execution_count": 18,
          "metadata": {},
          "output_type": "execute_result"
        }
      ],
      "source": [
        "test_data"
      ]
    },
    {
      "cell_type": "markdown",
      "metadata": {
        "id": "uGmBaIsxzLiG"
      },
      "source": [
        "##Sequantial Model Evaluation"
      ]
    },
    {
      "cell_type": "code",
      "execution_count": null,
      "metadata": {
        "colab": {
          "base_uri": "https://localhost:8080/"
        },
        "id": "Cfk8xGU5b4fL",
        "outputId": "7d183fa0-fcaf-4b2e-a05a-e0ca98fbb76a"
      },
      "outputs": [
        {
          "name": "stdout",
          "output_type": "stream",
          "text": [
            "2757/2757 [==============================] - 27s 6ms/step - loss: 2.2287 - accuracy: 0.5053 - tp: 0.0000e+00 - fp: 0.0000e+00 - tn: 1393.0000 - fn: 1364.0000 - precision: 0.0000e+00 - recall: 0.0000e+00 - AUC: 0.6492\n"
          ]
        },
        {
          "data": {
            "text/plain": [
              "[2.228736400604248,\n",
              " 0.5052593350410461,\n",
              " 0.0,\n",
              " 0.0,\n",
              " 1393.0,\n",
              " 1364.0,\n",
              " 0.0,\n",
              " 0.0,\n",
              " 0.6492093205451965]"
            ]
          },
          "execution_count": 19,
          "metadata": {},
          "output_type": "execute_result"
        }
      ],
      "source": [
        "lenet_model.evaluate(test_data)"
      ]
    },
    {
      "cell_type": "markdown",
      "metadata": {
        "id": "gxQNkC6_zgzz"
      },
      "source": [
        "###Visualizing Confusion Matrix"
      ]
    },
    {
      "cell_type": "code",
      "execution_count": null,
      "metadata": {
        "id": "LU3iaOlozo25"
      },
      "outputs": [],
      "source": [
        "labels = []\n",
        "inp = []\n",
        "for x,y in test_data.as_numpy_iterator():\n",
        "  labels.append(y)\n",
        "  inp.append(x)"
      ]
    },
    {
      "cell_type": "code",
      "execution_count": null,
      "metadata": {
        "colab": {
          "base_uri": "https://localhost:8080/"
        },
        "id": "lS6A84Kf0RMi",
        "outputId": "b0884604-316c-46ed-c915-bb9e5ee1f475"
      },
      "outputs": [
        {
          "name": "stdout",
          "output_type": "stream",
          "text": [
            "(2757, 1)\n",
            "(2757, 1, 224, 224, 3)\n"
          ]
        }
      ],
      "source": [
        "print(np.array(labels).shape)\n",
        "print(np.array(inp).shape)"
      ]
    },
    {
      "cell_type": "code",
      "execution_count": null,
      "metadata": {
        "id": "sRsKzze-0XrS"
      },
      "outputs": [],
      "source": [
        "labels = np.array([i[0] for i in labels] , dtype=np.int32)"
      ]
    },
    {
      "cell_type": "code",
      "execution_count": null,
      "metadata": {
        "colab": {
          "base_uri": "https://localhost:8080/"
        },
        "id": "QS_KFiMn0mx2",
        "outputId": "1d30dc50-592b-4493-cdba-41a82e1bdb65"
      },
      "outputs": [
        {
          "name": "stdout",
          "output_type": "stream",
          "text": [
            "[0 0 1 ... 1 1 0]\n"
          ]
        }
      ],
      "source": [
        "print(labels)"
      ]
    },
    {
      "cell_type": "code",
      "execution_count": null,
      "metadata": {
        "colab": {
          "base_uri": "https://localhost:8080/"
        },
        "id": "G-E6NQrY_UeS",
        "outputId": "813f6acb-9ffd-4f03-fd90-3d1ed0661faa"
      },
      "outputs": [
        {
          "name": "stdout",
          "output_type": "stream",
          "text": [
            "87/87 [==============================] - 1s 15ms/step\n"
          ]
        }
      ],
      "source": [
        "predict  = lenet_model.predict(np.array(inp)[:,0,...])"
      ]
    },
    {
      "cell_type": "code",
      "execution_count": null,
      "metadata": {
        "colab": {
          "base_uri": "https://localhost:8080/"
        },
        "id": "Z2tZKxeuAF39",
        "outputId": "9c623336-8de6-4c44-dfa2-33de82abafa6"
      },
      "outputs": [
        {
          "name": "stdout",
          "output_type": "stream",
          "text": [
            "[0.23532411 0.24065015 0.23927851 ... 0.24141747 0.28750357 0.24119781]\n"
          ]
        }
      ],
      "source": [
        "print(predict[:,0])"
      ]
    },
    {
      "cell_type": "code",
      "execution_count": null,
      "metadata": {
        "colab": {
          "base_uri": "https://localhost:8080/",
          "height": 462
        },
        "id": "ohSS8gcBAll8",
        "outputId": "889a1c68-4235-4866-ff7e-b5e570cef26f"
      },
      "outputs": [
        {
          "name": "stdout",
          "output_type": "stream",
          "text": [
            "[[   0 1394]\n",
            " [   0 1363]]\n"
          ]
        },
        {
          "data": {
            "text/plain": [
              "Text(0.5, 14.722222222222216, 'Predict')"
            ]
          },
          "execution_count": 26,
          "metadata": {},
          "output_type": "execute_result"
        },
        {
          "data": {
            "image/png": "[encoded data removed]",
            "text/plain": [
              "<Figure size 400x400 with 2 Axes>"
            ]
          },
          "metadata": {},
          "output_type": "display_data"
        }
      ],
      "source": [
        "thresold = 0.1\n",
        "\n",
        "cm = confusion_matrix(labels,predict > thresold)\n",
        "print(cm)\n",
        "plt.figure(figsize=(4,4))\n",
        "sns.heatmap(cm,annot=True,)\n",
        "plt.title(f'Confusion Martix - {thresold}')\n",
        "plt.ylabel('Actual')\n",
        "plt.xlabel('Predict')"
      ]
    },
    {
      "cell_type": "code",
      "execution_count": null,
      "metadata": {
        "colab": {
          "base_uri": "https://localhost:8080/",
          "height": 449
        },
        "id": "9iCFAzeeCErK",
        "outputId": "f29f77d5-05e6-460f-f912-ac51e72667ef"
      },
      "outputs": [
        {
          "data": {
            "image/png": "[encoded data removed]",
            "text/plain": [
              "<Figure size 640x480 with 1 Axes>"
            ]
          },
          "metadata": {},
          "output_type": "display_data"
        }
      ],
      "source": [
        "fp , tp ,thresholds = roc_curve(labels,predict)\n",
        "plt.plot(fp,tp)\n",
        "plt.xlabel(\"Flase Positive rate\")\n",
        "plt.ylabel(\"True Positive rate\")\n",
        "plt.grid()\n",
        "skip = 20\n",
        "for i in range(0,len(thresholds) , skip):\n",
        "  plt.text(fp[i],tp[i],thresholds[i])\n",
        "plt.show()"
      ]
    },
    {
      "cell_type": "markdown",
      "metadata": {
        "id": "LTDmdSM3zhA6"
      },
      "source": [
        "##Functional Model Evaluation"
      ]
    },
    {
      "cell_type": "code",
      "execution_count": null,
      "metadata": {
        "colab": {
          "base_uri": "https://localhost:8080/"
        },
        "id": "bF3thLQbzdxk",
        "outputId": "2ae33a97-41c9-4668-83f7-02e588533a63"
      },
      "outputs": [
        {
          "name": "stdout",
          "output_type": "stream",
          "text": [
            "2757/2757 [==============================] - 22s 4ms/step - loss: 0.2443 - accuracy: 0.9431\n"
          ]
        },
        {
          "data": {
            "text/plain": [
              "[0.2442609667778015, 0.9430540204048157]"
            ]
          },
          "execution_count": 21,
          "metadata": {},
          "output_type": "execute_result"
        }
      ],
      "source": [
        "lenet_model_functional.evaluate(test_data)"
      ]
    },
    {
      "cell_type": "markdown",
      "metadata": {
        "id": "eqLH-2x3zqpU"
      },
      "source": [
        "#Predict With Model"
      ]
    },
    {
      "cell_type": "code",
      "execution_count": null,
      "metadata": {
        "id": "4mVihsJ_i7Xs"
      },
      "outputs": [],
      "source": [
        "def parasite_or_not(x):\n",
        "  if(x<0.5):\n",
        "    return str('P')\n",
        "  else:\n",
        "    return str('U')"
      ]
    },
    {
      "cell_type": "code",
      "execution_count": null,
      "metadata": {
        "id": "bONrBcONjJGl"
      },
      "outputs": [],
      "source": [
        "parasite_or_not(lenet_model.predict(test_data.take(1))[0][0])"
      ]
    },
    {
      "cell_type": "code",
      "execution_count": null,
      "metadata": {
        "id": "mllDAXH1jwH3"
      },
      "outputs": [],
      "source": [
        "for i, (image, label) in enumerate(train_data.take(1)):\n",
        "  ax = plt.subplot(4, 4, i + 1)\n",
        "  plt.imshow(image[0])\n",
        "  plt.title(str(parasite_or_not(label.numpy()[0])) + \":\" +str(parasite_or_not(lenet_model.predict(image)[0][0])))\n",
        "  plt.axis('off')\n",
        "\n"
      ]
    },
    {
      "cell_type": "markdown",
      "metadata": {
        "id": "Xcq46gdUzd9N"
      },
      "source": [
        "#Use The Model"
      ]
    },
    {
      "cell_type": "code",
      "execution_count": null,
      "metadata": {
        "id": "0025j6Zzzgui"
      },
      "outputs": [],
      "source": [
        "image = cv2.imread('images.jpeg')\n",
        "print(image)\n"
      ]
    },
    {
      "cell_type": "markdown",
      "metadata": {
        "id": "30So45VByeqs"
      },
      "source": [
        "#Save Model"
      ]
    },
    {
      "cell_type": "markdown",
      "metadata": {
        "id": "nxPcmz-93JNp"
      },
      "source": [
        "##Save The Full Model"
      ]
    },
    {
      "cell_type": "code",
      "execution_count": null,
      "metadata": {
        "id": "frn9fdWSzwao"
      },
      "outputs": [],
      "source": [
        "lenet_model.save(\"lenetmodel\")"
      ]
    },
    {
      "cell_type": "code",
      "execution_count": null,
      "metadata": {
        "id": "bM3poIT313Hf"
      },
      "outputs": [],
      "source": [
        "load_lenet_model = tf.keras.models.load_model('lenetmodel')\n",
        "load_lenet_model.summary()"
      ]
    },
    {
      "cell_type": "code",
      "execution_count": null,
      "metadata": {
        "id": "BCQAtPBu4Qsh"
      },
      "outputs": [],
      "source": [
        "lenet_model.save(\"lenetmodel.hdf5\")"
      ]
    },
    {
      "cell_type": "markdown",
      "metadata": {
        "id": "H-uHjFfZ3NFR"
      },
      "source": [
        "##Save The only Weigths"
      ]
    },
    {
      "cell_type": "code",
      "execution_count": null,
      "metadata": {
        "id": "Xd4RM3G_2eXk"
      },
      "outputs": [],
      "source": [
        "lenet_model.save_weigths(\"weigths/lenet_weigths\")"
      ]
    },
    {
      "cell_type": "markdown",
      "metadata": {
        "id": "Sk7hTu-j5NDD"
      },
      "source": [
        "##Save in Google Drive"
      ]
    },
    {
      "cell_type": "code",
      "execution_count": null,
      "metadata": {
        "id": "RWwelIfp3hP-"
      },
      "outputs": [],
      "source": [
        "drive.mount('/content/drive')"
      ]
    },
    {
      "cell_type": "code",
      "execution_count": null,
      "metadata": {
        "id": "sxdxwAvz5hXt"
      },
      "outputs": [],
      "source": [
        "!cp -r /content/lenetmodel /content/drive/MyDrive/lenet_colab"
      ]
    },
    {
      "cell_type": "code",
      "execution_count": null,
      "metadata": {
        "id": "4oyFhLE26Utu"
      },
      "outputs": [],
      "source": [
        "!cp -r /content/drive/MyDrive/lenet_colab /content/lenetmodel"
      ]
    }
  ],
  "metadata": {
    "accelerator": "GPU",
    "colab": {
      "collapsed_sections": [
        "5HNLVYzkwyoU",
        "RUV59roYMuy9",
        "auVmuVl-w4Sc",
        "cLQ262bUw8cz",
        "wX8n78ANJf1G",
        "3SIaxjZIxMRC",
        "9ZO2yQ-p98K7",
        "Vh3NbynZsWjH",
        "doy7AQgrsdFv",
        "FtnQZioQ018V",
        "sxpqb-wZ4T0m",
        "qxzQpZSWshGR",
        "Xb3rDh3eEHwv",
        "Gwd36LSaxXbn",
        "Rh1eVj7cSeHe",
        "-xifhAFQxr3y",
        "y7guOSX0xySc",
        "VvuSi5IGhoE0",
        "aWo9dJPeHVnh",
        "EAg4bjYvx7bE",
        "qDWApVXryNP1",
        "25pvQ-egyaHX",
        "eqLH-2x3zqpU",
        "Xcq46gdUzd9N",
        "30So45VByeqs",
        "nxPcmz-93JNp",
        "H-uHjFfZ3NFR",
        "Sk7hTu-j5NDD"
      ],
      "gpuType": "T4",
      "provenance": []
    },
    "kernelspec": {
      "display_name": "Python 3",
      "name": "python3"
    },
    "language_info": {
      "name": "python"
    },
    "widgets": {
      "application/vnd.jupyter.widget-state+json": {
        "00153120268d4d64affea9c7f8858356": {
          "model_module": "@jupyter-widgets/base",
          "model_module_version": "1.2.0",
          "model_name": "LayoutModel",
          "state": {
            "_model_module": "@jupyter-widgets/base",
            "_model_module_version": "1.2.0",
            "_model_name": "LayoutModel",
            "_view_count": null,
            "_view_module": "@jupyter-widgets/base",
            "_view_module_version": "1.2.0",
            "_view_name": "LayoutView",
            "align_content": null,
            "align_items": null,
            "align_self": null,
            "border": null,
            "bottom": null,
            "display": null,
            "flex": null,
            "flex_flow": null,
            "grid_area": null,
            "grid_auto_columns": null,
            "grid_auto_flow": null,
            "grid_auto_rows": null,
            "grid_column": null,
            "grid_gap": null,
            "grid_row": null,
            "grid_template_areas": null,
            "grid_template_columns": null,
            "grid_template_rows": null,
            "height": null,
            "justify_content": null,
            "justify_items": null,
            "left": null,
            "margin": null,
            "max_height": null,
            "max_width": null,
            "min_height": null,
            "min_width": null,
            "object_fit": null,
            "object_position": null,
            "order": null,
            "overflow": null,
            "overflow_x": null,
            "overflow_y": null,
            "padding": null,
            "right": null,
            "top": null,
            "visibility": null,
            "width": null
          }
        },
        "071f492369c94ce481f9db6bb0b7832a": {
          "model_module": "@jupyter-widgets/controls",
          "model_module_version": "1.5.0",
          "model_name": "HTMLModel",
          "state": {
            "_dom_classes": [],
            "_model_module": "@jupyter-widgets/controls",
            "_model_module_version": "1.5.0",
            "_model_name": "HTMLModel",
            "_view_count": null,
            "_view_module": "@jupyter-widgets/controls",
            "_view_module_version": "1.5.0",
            "_view_name": "HTMLView",
            "description": "",
            "description_tooltip": null,
            "layout": "IPY_MODEL_c7ea9c8af54a48988a216aa162a0ddcd",
            "placeholder": "​",
            "style": "IPY_MODEL_aeefea460c6d47adbad29731dd009220",
            "value": " 0/0 [00:01&lt;?, ? file/s]"
          }
        },
        "10456f23a21d4ba5bb58d289c0740274": {
          "model_module": "@jupyter-widgets/base",
          "model_module_version": "1.2.0",
          "model_name": "LayoutModel",
          "state": {
            "_model_module": "@jupyter-widgets/base",
            "_model_module_version": "1.2.0",
            "_model_name": "LayoutModel",
            "_view_count": null,
            "_view_module": "@jupyter-widgets/base",
            "_view_module_version": "1.2.0",
            "_view_name": "LayoutView",
            "align_content": null,
            "align_items": null,
            "align_self": null,
            "border": null,
            "bottom": null,
            "display": null,
            "flex": null,
            "flex_flow": null,
            "grid_area": null,
            "grid_auto_columns": null,
            "grid_auto_flow": null,
            "grid_auto_rows": null,
            "grid_column": null,
            "grid_gap": null,
            "grid_row": null,
            "grid_template_areas": null,
            "grid_template_columns": null,
            "grid_template_rows": null,
            "height": null,
            "justify_content": null,
            "justify_items": null,
            "left": null,
            "margin": null,
            "max_height": null,
            "max_width": null,
            "min_height": null,
            "min_width": null,
            "object_fit": null,
            "object_position": null,
            "order": null,
            "overflow": null,
            "overflow_x": null,
            "overflow_y": null,
            "padding": null,
            "right": null,
            "top": null,
            "visibility": null,
            "width": "20px"
          }
        },
        "168ca931cbe744bb89ac15d0faa9fff1": {
          "model_module": "@jupyter-widgets/controls",
          "model_module_version": "1.5.0",
          "model_name": "HBoxModel",
          "state": {
            "_dom_classes": [],
            "_model_module": "@jupyter-widgets/controls",
            "_model_module_version": "1.5.0",
            "_model_name": "HBoxModel",
            "_view_count": null,
            "_view_module": "@jupyter-widgets/controls",
            "_view_module_version": "1.5.0",
            "_view_name": "HBoxView",
            "box_style": "",
            "children": [
              "IPY_MODEL_a5fc82903adc4457b2a83c9f44225072",
              "IPY_MODEL_7ce13a9460c04871a4c5594644515f4c",
              "IPY_MODEL_071f492369c94ce481f9db6bb0b7832a"
            ],
            "layout": "IPY_MODEL_9237d14b59e640a49175cb9f7b5aa2be"
          }
        },
        "2b2f3ffe5c1749aabe89af4e0a9c922f": {
          "model_module": "@jupyter-widgets/base",
          "model_module_version": "1.2.0",
          "model_name": "LayoutModel",
          "state": {
            "_model_module": "@jupyter-widgets/base",
            "_model_module_version": "1.2.0",
            "_model_name": "LayoutModel",
            "_view_count": null,
            "_view_module": "@jupyter-widgets/base",
            "_view_module_version": "1.2.0",
            "_view_name": "LayoutView",
            "align_content": null,
            "align_items": null,
            "align_self": null,
            "border": null,
            "bottom": null,
            "display": null,
            "flex": null,
            "flex_flow": null,
            "grid_area": null,
            "grid_auto_columns": null,
            "grid_auto_flow": null,
            "grid_auto_rows": null,
            "grid_column": null,
            "grid_gap": null,
            "grid_row": null,
            "grid_template_areas": null,
            "grid_template_columns": null,
            "grid_template_rows": null,
            "height": null,
            "justify_content": null,
            "justify_items": null,
            "left": null,
            "margin": null,
            "max_height": null,
            "max_width": null,
            "min_height": null,
            "min_width": null,
            "object_fit": null,
            "object_position": null,
            "order": null,
            "overflow": null,
            "overflow_x": null,
            "overflow_y": null,
            "padding": null,
            "right": null,
            "top": null,
            "visibility": null,
            "width": "20px"
          }
        },
        "3bebeb80b2114d3e9f55466c6a3e2a16": {
          "model_module": "@jupyter-widgets/controls",
          "model_module_version": "1.5.0",
          "model_name": "HTMLModel",
          "state": {
            "_dom_classes": [],
            "_model_module": "@jupyter-widgets/controls",
            "_model_module_version": "1.5.0",
            "_model_name": "HTMLModel",
            "_view_count": null,
            "_view_module": "@jupyter-widgets/controls",
            "_view_module_version": "1.5.0",
            "_view_name": "HTMLView",
            "description": "",
            "description_tooltip": null,
            "layout": "IPY_MODEL_4f379ace21004383911ee23adef11dd1",
            "placeholder": "​",
            "style": "IPY_MODEL_c243036942d24b6bbebb8e1912d780a3",
            "value": "Dl Completed...:   0%"
          }
        },
        "3d91bb052f2d4cf4be1727dfa60047de": {
          "model_module": "@jupyter-widgets/controls",
          "model_module_version": "1.5.0",
          "model_name": "ProgressStyleModel",
          "state": {
            "_model_module": "@jupyter-widgets/controls",
            "_model_module_version": "1.5.0",
            "_model_name": "ProgressStyleModel",
            "_view_count": null,
            "_view_module": "@jupyter-widgets/base",
            "_view_module_version": "1.2.0",
            "_view_name": "StyleView",
            "bar_color": null,
            "description_width": ""
          }
        },
        "4ba2604d7336439ea573628a9ce5f26e": {
          "model_module": "@jupyter-widgets/controls",
          "model_module_version": "1.5.0",
          "model_name": "HBoxModel",
          "state": {
            "_dom_classes": [],
            "_model_module": "@jupyter-widgets/controls",
            "_model_module_version": "1.5.0",
            "_model_name": "HBoxModel",
            "_view_count": null,
            "_view_module": "@jupyter-widgets/controls",
            "_view_module_version": "1.5.0",
            "_view_name": "HBoxView",
            "box_style": "",
            "children": [
              "IPY_MODEL_a3081c90587b458ba144ed985906fcef",
              "IPY_MODEL_58b6cb2e391f4533945e827448c16f4d",
              "IPY_MODEL_5a2284c4dd6f4a95b98ca3eb5a907dbe"
            ],
            "layout": "IPY_MODEL_8ed5d43623b8410390c79d99649100dd"
          }
        },
        "4bf1d13b3985477fb58f4aa25f802429": {
          "model_module": "@jupyter-widgets/controls",
          "model_module_version": "1.5.0",
          "model_name": "ProgressStyleModel",
          "state": {
            "_model_module": "@jupyter-widgets/controls",
            "_model_module_version": "1.5.0",
            "_model_name": "ProgressStyleModel",
            "_view_count": null,
            "_view_module": "@jupyter-widgets/base",
            "_view_module_version": "1.2.0",
            "_view_name": "StyleView",
            "bar_color": null,
            "description_width": ""
          }
        },
        "4f379ace21004383911ee23adef11dd1": {
          "model_module": "@jupyter-widgets/base",
          "model_module_version": "1.2.0",
          "model_name": "LayoutModel",
          "state": {
            "_model_module": "@jupyter-widgets/base",
            "_model_module_version": "1.2.0",
            "_model_name": "LayoutModel",
            "_view_count": null,
            "_view_module": "@jupyter-widgets/base",
            "_view_module_version": "1.2.0",
            "_view_name": "LayoutView",
            "align_content": null,
            "align_items": null,
            "align_self": null,
            "border": null,
            "bottom": null,
            "display": null,
            "flex": null,
            "flex_flow": null,
            "grid_area": null,
            "grid_auto_columns": null,
            "grid_auto_flow": null,
            "grid_auto_rows": null,
            "grid_column": null,
            "grid_gap": null,
            "grid_row": null,
            "grid_template_areas": null,
            "grid_template_columns": null,
            "grid_template_rows": null,
            "height": null,
            "justify_content": null,
            "justify_items": null,
            "left": null,
            "margin": null,
            "max_height": null,
            "max_width": null,
            "min_height": null,
            "min_width": null,
            "object_fit": null,
            "object_position": null,
            "order": null,
            "overflow": null,
            "overflow_x": null,
            "overflow_y": null,
            "padding": null,
            "right": null,
            "top": null,
            "visibility": null,
            "width": null
          }
        },
        "58b6cb2e391f4533945e827448c16f4d": {
          "model_module": "@jupyter-widgets/controls",
          "model_module_version": "1.5.0",
          "model_name": "FloatProgressModel",
          "state": {
            "_dom_classes": [],
            "_model_module": "@jupyter-widgets/controls",
            "_model_module_version": "1.5.0",
            "_model_name": "FloatProgressModel",
            "_view_count": null,
            "_view_module": "@jupyter-widgets/controls",
            "_view_module_version": "1.5.0",
            "_view_name": "ProgressView",
            "bar_style": "info",
            "description": "",
            "description_tooltip": null,
            "layout": "IPY_MODEL_2b2f3ffe5c1749aabe89af4e0a9c922f",
            "max": 1,
            "min": 0,
            "orientation": "horizontal",
            "style": "IPY_MODEL_3d91bb052f2d4cf4be1727dfa60047de",
            "value": 1
          }
        },
        "5a2284c4dd6f4a95b98ca3eb5a907dbe": {
          "model_module": "@jupyter-widgets/controls",
          "model_module_version": "1.5.0",
          "model_name": "HTMLModel",
          "state": {
            "_dom_classes": [],
            "_model_module": "@jupyter-widgets/controls",
            "_model_module_version": "1.5.0",
            "_model_name": "HTMLModel",
            "_view_count": null,
            "_view_module": "@jupyter-widgets/controls",
            "_view_module_version": "1.5.0",
            "_view_name": "HTMLView",
            "description": "",
            "description_tooltip": null,
            "layout": "IPY_MODEL_00153120268d4d64affea9c7f8858356",
            "placeholder": "​",
            "style": "IPY_MODEL_66a67cf797424548820c794b6de68bf1",
            "value": " 31/337 [00:01&lt;06:57,  1.36s/ MiB]"
          }
        },
        "5b2975357c614a62bb77c7d20eb2e971": {
          "model_module": "@jupyter-widgets/base",
          "model_module_version": "1.2.0",
          "model_name": "LayoutModel",
          "state": {
            "_model_module": "@jupyter-widgets/base",
            "_model_module_version": "1.2.0",
            "_model_name": "LayoutModel",
            "_view_count": null,
            "_view_module": "@jupyter-widgets/base",
            "_view_module_version": "1.2.0",
            "_view_name": "LayoutView",
            "align_content": null,
            "align_items": null,
            "align_self": null,
            "border": null,
            "bottom": null,
            "display": null,
            "flex": null,
            "flex_flow": null,
            "grid_area": null,
            "grid_auto_columns": null,
            "grid_auto_flow": null,
            "grid_auto_rows": null,
            "grid_column": null,
            "grid_gap": null,
            "grid_row": null,
            "grid_template_areas": null,
            "grid_template_columns": null,
            "grid_template_rows": null,
            "height": null,
            "justify_content": null,
            "justify_items": null,
            "left": null,
            "margin": null,
            "max_height": null,
            "max_width": null,
            "min_height": null,
            "min_width": null,
            "object_fit": null,
            "object_position": null,
            "order": null,
            "overflow": null,
            "overflow_x": null,
            "overflow_y": null,
            "padding": null,
            "right": null,
            "top": null,
            "visibility": null,
            "width": null
          }
        },
        "622d70fb15754d8dbad39608952ae8d4": {
          "model_module": "@jupyter-widgets/controls",
          "model_module_version": "1.5.0",
          "model_name": "ProgressStyleModel",
          "state": {
            "_model_module": "@jupyter-widgets/controls",
            "_model_module_version": "1.5.0",
            "_model_name": "ProgressStyleModel",
            "_view_count": null,
            "_view_module": "@jupyter-widgets/base",
            "_view_module_version": "1.2.0",
            "_view_name": "StyleView",
            "bar_color": null,
            "description_width": ""
          }
        },
        "64ddef28dd20449cabbc7bee7f18a716": {
          "model_module": "@jupyter-widgets/controls",
          "model_module_version": "1.5.0",
          "model_name": "HTMLModel",
          "state": {
            "_dom_classes": [],
            "_model_module": "@jupyter-widgets/controls",
            "_model_module_version": "1.5.0",
            "_model_name": "HTMLModel",
            "_view_count": null,
            "_view_module": "@jupyter-widgets/controls",
            "_view_module_version": "1.5.0",
            "_view_name": "HTMLView",
            "description": "",
            "description_tooltip": null,
            "layout": "IPY_MODEL_a7f7e7c657724d2d9d1236dfc4d3a2f7",
            "placeholder": "​",
            "style": "IPY_MODEL_fe850e137d3d48679a1f339dd51d5f69",
            "value": " 0/1 [00:01&lt;?, ? url/s]"
          }
        },
        "66a67cf797424548820c794b6de68bf1": {
          "model_module": "@jupyter-widgets/controls",
          "model_module_version": "1.5.0",
          "model_name": "DescriptionStyleModel",
          "state": {
            "_model_module": "@jupyter-widgets/controls",
            "_model_module_version": "1.5.0",
            "_model_name": "DescriptionStyleModel",
            "_view_count": null,
            "_view_module": "@jupyter-widgets/base",
            "_view_module_version": "1.2.0",
            "_view_name": "StyleView",
            "description_width": ""
          }
        },
        "7ce13a9460c04871a4c5594644515f4c": {
          "model_module": "@jupyter-widgets/controls",
          "model_module_version": "1.5.0",
          "model_name": "FloatProgressModel",
          "state": {
            "_dom_classes": [],
            "_model_module": "@jupyter-widgets/controls",
            "_model_module_version": "1.5.0",
            "_model_name": "FloatProgressModel",
            "_view_count": null,
            "_view_module": "@jupyter-widgets/controls",
            "_view_module_version": "1.5.0",
            "_view_name": "ProgressView",
            "bar_style": "info",
            "description": "",
            "description_tooltip": null,
            "layout": "IPY_MODEL_10456f23a21d4ba5bb58d289c0740274",
            "max": 1,
            "min": 0,
            "orientation": "horizontal",
            "style": "IPY_MODEL_4bf1d13b3985477fb58f4aa25f802429",
            "value": 0
          }
        },
        "7f5f1ec111714945ad6a3c509f625479": {
          "model_module": "@jupyter-widgets/base",
          "model_module_version": "1.2.0",
          "model_name": "LayoutModel",
          "state": {
            "_model_module": "@jupyter-widgets/base",
            "_model_module_version": "1.2.0",
            "_model_name": "LayoutModel",
            "_view_count": null,
            "_view_module": "@jupyter-widgets/base",
            "_view_module_version": "1.2.0",
            "_view_name": "LayoutView",
            "align_content": null,
            "align_items": null,
            "align_self": null,
            "border": null,
            "bottom": null,
            "display": null,
            "flex": null,
            "flex_flow": null,
            "grid_area": null,
            "grid_auto_columns": null,
            "grid_auto_flow": null,
            "grid_auto_rows": null,
            "grid_column": null,
            "grid_gap": null,
            "grid_row": null,
            "grid_template_areas": null,
            "grid_template_columns": null,
            "grid_template_rows": null,
            "height": null,
            "justify_content": null,
            "justify_items": null,
            "left": null,
            "margin": null,
            "max_height": null,
            "max_width": null,
            "min_height": null,
            "min_width": null,
            "object_fit": null,
            "object_position": null,
            "order": null,
            "overflow": null,
            "overflow_x": null,
            "overflow_y": null,
            "padding": null,
            "right": null,
            "top": null,
            "visibility": null,
            "width": null
          }
        },
        "8ed5d43623b8410390c79d99649100dd": {
          "model_module": "@jupyter-widgets/base",
          "model_module_version": "1.2.0",
          "model_name": "LayoutModel",
          "state": {
            "_model_module": "@jupyter-widgets/base",
            "_model_module_version": "1.2.0",
            "_model_name": "LayoutModel",
            "_view_count": null,
            "_view_module": "@jupyter-widgets/base",
            "_view_module_version": "1.2.0",
            "_view_name": "LayoutView",
            "align_content": null,
            "align_items": null,
            "align_self": null,
            "border": null,
            "bottom": null,
            "display": null,
            "flex": null,
            "flex_flow": null,
            "grid_area": null,
            "grid_auto_columns": null,
            "grid_auto_flow": null,
            "grid_auto_rows": null,
            "grid_column": null,
            "grid_gap": null,
            "grid_row": null,
            "grid_template_areas": null,
            "grid_template_columns": null,
            "grid_template_rows": null,
            "height": null,
            "justify_content": null,
            "justify_items": null,
            "left": null,
            "margin": null,
            "max_height": null,
            "max_width": null,
            "min_height": null,
            "min_width": null,
            "object_fit": null,
            "object_position": null,
            "order": null,
            "overflow": null,
            "overflow_x": null,
            "overflow_y": null,
            "padding": null,
            "right": null,
            "top": null,
            "visibility": null,
            "width": null
          }
        },
        "9237d14b59e640a49175cb9f7b5aa2be": {
          "model_module": "@jupyter-widgets/base",
          "model_module_version": "1.2.0",
          "model_name": "LayoutModel",
          "state": {
            "_model_module": "@jupyter-widgets/base",
            "_model_module_version": "1.2.0",
            "_model_name": "LayoutModel",
            "_view_count": null,
            "_view_module": "@jupyter-widgets/base",
            "_view_module_version": "1.2.0",
            "_view_name": "LayoutView",
            "align_content": null,
            "align_items": null,
            "align_self": null,
            "border": null,
            "bottom": null,
            "display": null,
            "flex": null,
            "flex_flow": null,
            "grid_area": null,
            "grid_auto_columns": null,
            "grid_auto_flow": null,
            "grid_auto_rows": null,
            "grid_column": null,
            "grid_gap": null,
            "grid_row": null,
            "grid_template_areas": null,
            "grid_template_columns": null,
            "grid_template_rows": null,
            "height": null,
            "justify_content": null,
            "justify_items": null,
            "left": null,
            "margin": null,
            "max_height": null,
            "max_width": null,
            "min_height": null,
            "min_width": null,
            "object_fit": null,
            "object_position": null,
            "order": null,
            "overflow": null,
            "overflow_x": null,
            "overflow_y": null,
            "padding": null,
            "right": null,
            "top": null,
            "visibility": null,
            "width": null
          }
        },
        "9b9a29e3160e4b6d8245649b906df7a5": {
          "model_module": "@jupyter-widgets/controls",
          "model_module_version": "1.5.0",
          "model_name": "DescriptionStyleModel",
          "state": {
            "_model_module": "@jupyter-widgets/controls",
            "_model_module_version": "1.5.0",
            "_model_name": "DescriptionStyleModel",
            "_view_count": null,
            "_view_module": "@jupyter-widgets/base",
            "_view_module_version": "1.2.0",
            "_view_name": "StyleView",
            "description_width": ""
          }
        },
        "a3081c90587b458ba144ed985906fcef": {
          "model_module": "@jupyter-widgets/controls",
          "model_module_version": "1.5.0",
          "model_name": "HTMLModel",
          "state": {
            "_dom_classes": [],
            "_model_module": "@jupyter-widgets/controls",
            "_model_module_version": "1.5.0",
            "_model_name": "HTMLModel",
            "_view_count": null,
            "_view_module": "@jupyter-widgets/controls",
            "_view_module_version": "1.5.0",
            "_view_name": "HTMLView",
            "description": "",
            "description_tooltip": null,
            "layout": "IPY_MODEL_5b2975357c614a62bb77c7d20eb2e971",
            "placeholder": "​",
            "style": "IPY_MODEL_9b9a29e3160e4b6d8245649b906df7a5",
            "value": "Dl Size...:   9%"
          }
        },
        "a5fc82903adc4457b2a83c9f44225072": {
          "model_module": "@jupyter-widgets/controls",
          "model_module_version": "1.5.0",
          "model_name": "HTMLModel",
          "state": {
            "_dom_classes": [],
            "_model_module": "@jupyter-widgets/controls",
            "_model_module_version": "1.5.0",
            "_model_name": "HTMLModel",
            "_view_count": null,
            "_view_module": "@jupyter-widgets/controls",
            "_view_module_version": "1.5.0",
            "_view_name": "HTMLView",
            "description": "",
            "description_tooltip": null,
            "layout": "IPY_MODEL_7f5f1ec111714945ad6a3c509f625479",
            "placeholder": "​",
            "style": "IPY_MODEL_ec25aab7730a4e8aac6a453e506dd59f",
            "value": "Extraction completed...: "
          }
        },
        "a7f7e7c657724d2d9d1236dfc4d3a2f7": {
          "model_module": "@jupyter-widgets/base",
          "model_module_version": "1.2.0",
          "model_name": "LayoutModel",
          "state": {
            "_model_module": "@jupyter-widgets/base",
            "_model_module_version": "1.2.0",
            "_model_name": "LayoutModel",
            "_view_count": null,
            "_view_module": "@jupyter-widgets/base",
            "_view_module_version": "1.2.0",
            "_view_name": "LayoutView",
            "align_content": null,
            "align_items": null,
            "align_self": null,
            "border": null,
            "bottom": null,
            "display": null,
            "flex": null,
            "flex_flow": null,
            "grid_area": null,
            "grid_auto_columns": null,
            "grid_auto_flow": null,
            "grid_auto_rows": null,
            "grid_column": null,
            "grid_gap": null,
            "grid_row": null,
            "grid_template_areas": null,
            "grid_template_columns": null,
            "grid_template_rows": null,
            "height": null,
            "justify_content": null,
            "justify_items": null,
            "left": null,
            "margin": null,
            "max_height": null,
            "max_width": null,
            "min_height": null,
            "min_width": null,
            "object_fit": null,
            "object_position": null,
            "order": null,
            "overflow": null,
            "overflow_x": null,
            "overflow_y": null,
            "padding": null,
            "right": null,
            "top": null,
            "visibility": null,
            "width": null
          }
        },
        "aa5b65367c4a42e489a2afccfbaaaa77": {
          "model_module": "@jupyter-widgets/controls",
          "model_module_version": "1.5.0",
          "model_name": "FloatProgressModel",
          "state": {
            "_dom_classes": [],
            "_model_module": "@jupyter-widgets/controls",
            "_model_module_version": "1.5.0",
            "_model_name": "FloatProgressModel",
            "_view_count": null,
            "_view_module": "@jupyter-widgets/controls",
            "_view_module_version": "1.5.0",
            "_view_name": "ProgressView",
            "bar_style": "info",
            "description": "",
            "description_tooltip": null,
            "layout": "IPY_MODEL_cb8c22593df8478c8ce1599fe188d1b3",
            "max": 1,
            "min": 0,
            "orientation": "horizontal",
            "style": "IPY_MODEL_622d70fb15754d8dbad39608952ae8d4",
            "value": 0
          }
        },
        "aeefea460c6d47adbad29731dd009220": {
          "model_module": "@jupyter-widgets/controls",
          "model_module_version": "1.5.0",
          "model_name": "DescriptionStyleModel",
          "state": {
            "_model_module": "@jupyter-widgets/controls",
            "_model_module_version": "1.5.0",
            "_model_name": "DescriptionStyleModel",
            "_view_count": null,
            "_view_module": "@jupyter-widgets/base",
            "_view_module_version": "1.2.0",
            "_view_name": "StyleView",
            "description_width": ""
          }
        },
        "b0b065039af94c0ea80e99b14bd17d1e": {
          "model_module": "@jupyter-widgets/controls",
          "model_module_version": "1.5.0",
          "model_name": "HBoxModel",
          "state": {
            "_dom_classes": [],
            "_model_module": "@jupyter-widgets/controls",
            "_model_module_version": "1.5.0",
            "_model_name": "HBoxModel",
            "_view_count": null,
            "_view_module": "@jupyter-widgets/controls",
            "_view_module_version": "1.5.0",
            "_view_name": "HBoxView",
            "box_style": "",
            "children": [
              "IPY_MODEL_3bebeb80b2114d3e9f55466c6a3e2a16",
              "IPY_MODEL_aa5b65367c4a42e489a2afccfbaaaa77",
              "IPY_MODEL_64ddef28dd20449cabbc7bee7f18a716"
            ],
            "layout": "IPY_MODEL_b251d7a907c14300a916d0758ecd45aa"
          }
        },
        "b251d7a907c14300a916d0758ecd45aa": {
          "model_module": "@jupyter-widgets/base",
          "model_module_version": "1.2.0",
          "model_name": "LayoutModel",
          "state": {
            "_model_module": "@jupyter-widgets/base",
            "_model_module_version": "1.2.0",
            "_model_name": "LayoutModel",
            "_view_count": null,
            "_view_module": "@jupyter-widgets/base",
            "_view_module_version": "1.2.0",
            "_view_name": "LayoutView",
            "align_content": null,
            "align_items": null,
            "align_self": null,
            "border": null,
            "bottom": null,
            "display": null,
            "flex": null,
            "flex_flow": null,
            "grid_area": null,
            "grid_auto_columns": null,
            "grid_auto_flow": null,
            "grid_auto_rows": null,
            "grid_column": null,
            "grid_gap": null,
            "grid_row": null,
            "grid_template_areas": null,
            "grid_template_columns": null,
            "grid_template_rows": null,
            "height": null,
            "justify_content": null,
            "justify_items": null,
            "left": null,
            "margin": null,
            "max_height": null,
            "max_width": null,
            "min_height": null,
            "min_width": null,
            "object_fit": null,
            "object_position": null,
            "order": null,
            "overflow": null,
            "overflow_x": null,
            "overflow_y": null,
            "padding": null,
            "right": null,
            "top": null,
            "visibility": null,
            "width": null
          }
        },
        "c243036942d24b6bbebb8e1912d780a3": {
          "model_module": "@jupyter-widgets/controls",
          "model_module_version": "1.5.0",
          "model_name": "DescriptionStyleModel",
          "state": {
            "_model_module": "@jupyter-widgets/controls",
            "_model_module_version": "1.5.0",
            "_model_name": "DescriptionStyleModel",
            "_view_count": null,
            "_view_module": "@jupyter-widgets/base",
            "_view_module_version": "1.2.0",
            "_view_name": "StyleView",
            "description_width": ""
          }
        },
        "c7ea9c8af54a48988a216aa162a0ddcd": {
          "model_module": "@jupyter-widgets/base",
          "model_module_version": "1.2.0",
          "model_name": "LayoutModel",
          "state": {
            "_model_module": "@jupyter-widgets/base",
            "_model_module_version": "1.2.0",
            "_model_name": "LayoutModel",
            "_view_count": null,
            "_view_module": "@jupyter-widgets/base",
            "_view_module_version": "1.2.0",
            "_view_name": "LayoutView",
            "align_content": null,
            "align_items": null,
            "align_self": null,
            "border": null,
            "bottom": null,
            "display": null,
            "flex": null,
            "flex_flow": null,
            "grid_area": null,
            "grid_auto_columns": null,
            "grid_auto_flow": null,
            "grid_auto_rows": null,
            "grid_column": null,
            "grid_gap": null,
            "grid_row": null,
            "grid_template_areas": null,
            "grid_template_columns": null,
            "grid_template_rows": null,
            "height": null,
            "justify_content": null,
            "justify_items": null,
            "left": null,
            "margin": null,
            "max_height": null,
            "max_width": null,
            "min_height": null,
            "min_width": null,
            "object_fit": null,
            "object_position": null,
            "order": null,
            "overflow": null,
            "overflow_x": null,
            "overflow_y": null,
            "padding": null,
            "right": null,
            "top": null,
            "visibility": null,
            "width": null
          }
        },
        "cb8c22593df8478c8ce1599fe188d1b3": {
          "model_module": "@jupyter-widgets/base",
          "model_module_version": "1.2.0",
          "model_name": "LayoutModel",
          "state": {
            "_model_module": "@jupyter-widgets/base",
            "_model_module_version": "1.2.0",
            "_model_name": "LayoutModel",
            "_view_count": null,
            "_view_module": "@jupyter-widgets/base",
            "_view_module_version": "1.2.0",
            "_view_name": "LayoutView",
            "align_content": null,
            "align_items": null,
            "align_self": null,
            "border": null,
            "bottom": null,
            "display": null,
            "flex": null,
            "flex_flow": null,
            "grid_area": null,
            "grid_auto_columns": null,
            "grid_auto_flow": null,
            "grid_auto_rows": null,
            "grid_column": null,
            "grid_gap": null,
            "grid_row": null,
            "grid_template_areas": null,
            "grid_template_columns": null,
            "grid_template_rows": null,
            "height": null,
            "justify_content": null,
            "justify_items": null,
            "left": null,
            "margin": null,
            "max_height": null,
            "max_width": null,
            "min_height": null,
            "min_width": null,
            "object_fit": null,
            "object_position": null,
            "order": null,
            "overflow": null,
            "overflow_x": null,
            "overflow_y": null,
            "padding": null,
            "right": null,
            "top": null,
            "visibility": null,
            "width": "20px"
          }
        },
        "ec25aab7730a4e8aac6a453e506dd59f": {
          "model_module": "@jupyter-widgets/controls",
          "model_module_version": "1.5.0",
          "model_name": "DescriptionStyleModel",
          "state": {
            "_model_module": "@jupyter-widgets/controls",
            "_model_module_version": "1.5.0",
            "_model_name": "DescriptionStyleModel",
            "_view_count": null,
            "_view_module": "@jupyter-widgets/base",
            "_view_module_version": "1.2.0",
            "_view_name": "StyleView",
            "description_width": ""
          }
        },
        "fe850e137d3d48679a1f339dd51d5f69": {
          "model_module": "@jupyter-widgets/controls",
          "model_module_version": "1.5.0",
          "model_name": "DescriptionStyleModel",
          "state": {
            "_model_module": "@jupyter-widgets/controls",
            "_model_module_version": "1.5.0",
            "_model_name": "DescriptionStyleModel",
            "_view_count": null,
            "_view_module": "@jupyter-widgets/base",
            "_view_module_version": "1.2.0",
            "_view_name": "StyleView",
            "description_width": ""
          }
        }
      }
    }
  },
  "nbformat": 4,
  "nbformat_minor": 0
}